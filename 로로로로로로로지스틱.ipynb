{
 "cells": [
  {
   "cell_type": "code",
   "execution_count": 1,
   "metadata": {},
   "outputs": [
    {
     "name": "stdout",
     "output_type": "stream",
     "text": [
      "0.4990383642069035\n",
      "4930\n",
      "4949\n"
     ]
    }
   ],
   "source": [
    "import pandas as pd\n",
    "import numpy as np\n",
    "import matplotlib.pyplot as plt\n",
    "\n",
    "\n",
    "data=pd.read_csv(r'롤롤.csv',encoding='euc-kr')\n",
    "#print(data.info())\n",
    "#print(data.shape)\n",
    "#print(data.isnull().sum())\n",
    "\n",
    "data=data.drop('gameId',axis=1)\n",
    "# id 는 모델 분류하는데 영향을 미치지 않으므로 제거\n",
    "lose=data[data['B승']==0]\n",
    "win=data[data['B승']==1]\n",
    "print(win.shape[0]/(win.shape[0]+lose.shape[0]))\n",
    "print(win.shape[0])\n",
    "print(lose.shape[0])"
   ]
  },
  {
   "cell_type": "code",
   "execution_count": 2,
   "metadata": {},
   "outputs": [],
   "source": [
    "#data=data[data.columns[:20]]\n",
    "#data=data.drop(['B토탈골드','B경험치','B엘리트몬스터','B전령','BCS','B분당골드'],axis=1)\n",
    "#print(data.head())\n",
    "#b의 승은 b의 얻은량에 영향을 받으므로  레드팀에것은 제거\n",
    "y=data['B승']\n",
    "#X=data.drop('B승',axis=1)\n",
    "X=data.drop(['B승','B엘리트몬스터','B전령','B토탈골드','B경험치','BCS','B골드차이','B경험치차이',\n",
    "            'B분당골드','R와드', 'R와드파괴', 'R퍼블', 'R킬', 'R데스', 'R어시스트',\n",
    "       'R엘리트몬스터','R전령','R토탈골드','R경험치'],axis=1)\n",
    "X=X.drop(['R골드차이', 'R경험치차이','R분당골드'],axis=1)\n",
    "X['분당cs차이']=X['B분당CS']-X['R분당CS']\n",
    "X['레벨차이']=X['B평균레벨']-X['R평균레벨']\n",
    "X=X.drop(['B분당CS','R분당CS','B평균레벨','R평균레벨'],axis=1)\n",
    "col=X.columns"
   ]
  },
  {
   "cell_type": "code",
   "execution_count": 3,
   "metadata": {},
   "outputs": [],
   "source": [
    "from sklearn.preprocessing import StandardScaler#수치형\n",
    "from sklearn.preprocessing import LabelEncoder#범주형"
   ]
  },
  {
   "cell_type": "code",
   "execution_count": 4,
   "metadata": {},
   "outputs": [],
   "source": [
    "from sklearn.metrics import confusion_matrix,classification_report\n",
    "from sklearn.metrics import accuracy_score,precision_score,recall_score,f1_score,make_scorer#정확도,민감도등\n",
    "from sklearn.metrics import roc_curve #roc곡선그리기\n"
   ]
  },
  {
   "cell_type": "code",
   "execution_count": 5,
   "metadata": {},
   "outputs": [],
   "source": [
    "#최적화\n",
    "from sklearn.model_selection import cross_validate #교차타당도\n",
    "from sklearn.pipeline import make_pipeline#파이프라인구축\n",
    "from sklearn.model_selection import learning_curve#학습곡선,검증곡선\n",
    "from sklearn.model_selection import GridSearchCV #하이퍼파라미티튜닝\n",
    "\n",
    "from sklearn.model_selection import train_test_split\n",
    "from sklearn.linear_model import LogisticRegression"
   ]
  },
  {
   "cell_type": "code",
   "execution_count": 6,
   "metadata": {},
   "outputs": [],
   "source": [
    "X_train,X_test,y_train,y_test=\\\n",
    "    train_test_split(X,y,\n",
    "    test_size=0.4,\n",
    "    train_size=0.6,\n",
    "    random_state=12354,\n",
    "    shuffle=True)\n",
    "\n",
    "\n",
    "stdc=StandardScaler()\n",
    "X_train=stdc.fit_transform(X_train)\n",
    "X_test=stdc.transform(X_test)\n",
    "#x 데이터들을 표준화실시"
   ]
  },
  {
   "cell_type": "code",
   "execution_count": 7,
   "metadata": {},
   "outputs": [],
   "source": [
    "#모델구축\n",
    "logic=LogisticRegression(penalty='elasticnet',solver='saga',n_jobs=-1,l1_ratio=0.4)\n",
    "logic.fit(X_train,y_train)\n",
    "y_pred=logic.predict(X_test)"
   ]
  },
  {
   "cell_type": "code",
   "execution_count": 8,
   "metadata": {},
   "outputs": [],
   "source": [
    "confmat=pd.DataFrame(confusion_matrix(y_test,y_pred),\n",
    "index=['True[0]','True[1]'],\n",
    "columns=['Predict[0]','predict[1]'])"
   ]
  },
  {
   "cell_type": "code",
   "execution_count": 9,
   "metadata": {},
   "outputs": [
    {
     "name": "stdout",
     "output_type": "stream",
     "text": [
      "         Predict[0]  predict[1]\n",
      "True[0]        1410         515\n",
      "True[1]         595        1432\n",
      "              precision    recall  f1-score   support\n",
      "\n",
      "           0       0.70      0.73      0.72      1925\n",
      "           1       0.74      0.71      0.72      2027\n",
      "\n",
      "    accuracy                           0.72      3952\n",
      "   macro avg       0.72      0.72      0.72      3952\n",
      "weighted avg       0.72      0.72      0.72      3952\n",
      "\n"
     ]
    }
   ],
   "source": [
    "print(confmat)\n",
    "print(classification_report(y_test,y_pred)) \n",
    "# 현재 정확도 73%\n",
    "\n",
    "\n",
    "\n",
    "\n",
    "from sklearn.metrics import auc\n",
    "from sklearn.metrics import plot_roc_curve\n",
    "\n",
    "#동일한분포 아닐경우\n",
    "from sklearn.model_selection import RepeatedKFold\n",
    "#동일한분포이며, 특징들이 독립적일경우\n",
    "from sklearn.model_selection import StratifiedKFold\n",
    "repert=RepeatedKFold(n_splits=5,n_repeats=10)\n",
    "kfold=StratifiedKFold(n_splits=5,shuffle=True)\n"
   ]
  },
  {
   "cell_type": "code",
   "execution_count": 10,
   "metadata": {},
   "outputs": [],
   "source": [
    "train_sizes,train_scores,test_scores=\\\n",
    "    learning_curve(estimator=logic,#수정\n",
    "    X=X_train,\n",
    "    y=y_train,\n",
    "    train_sizes=np.linspace(0.1,1.0,10),\n",
    "    n_jobs=-1,\n",
    "    cv=repert)\n"
   ]
  },
  {
   "cell_type": "code",
   "execution_count": 11,
   "metadata": {},
   "outputs": [
    {
     "data": {
      "image/png": "[encoded data removed]",
      "text/plain": [
       "<Figure size 432x288 with 1 Axes>"
      ]
     },
     "metadata": {
      "needs_background": "light"
     },
     "output_type": "display_data"
    }
   ],
   "source": [
    "\n",
    "train_mean=np.mean(train_scores,axis=1)\n",
    "train_std=np.std(train_scores,axis=1)\n",
    "test_mean=np.mean(test_scores,axis=1)\n",
    "\n",
    "test_std=np.std(test_scores,axis=1)\n",
    "\n",
    "plt.plot(train_sizes,train_mean,\n",
    "color='blue',marker='o',\n",
    "markersize=5,label='training accuracy')\n",
    "\n",
    "plt.fill_between(train_sizes,\n",
    "train_mean+train_std,\n",
    "train_mean-train_std,\n",
    "alpha=0.5,color='blue')\n",
    "\n",
    "plt.plot(train_sizes,test_mean,\n",
    "color='green',linestyle='--',\n",
    "marker='s',markersize=5,\n",
    "label='validation accuracy')\n",
    "plt.fill_between(train_sizes,\n",
    "test_mean+test_std,\n",
    "test_mean-test_std,\n",
    "alpha=0.15,color='green')\n",
    "\n",
    "plt.grid()\n",
    "plt.xlabel('number of trainning samples')\n",
    "plt.ylabel('accuracy')\n",
    "plt.legend(loc='lower right')\n",
    "plt.ylim([0,1.03])#수정  y값의 범위\n",
    "plt.tight_layout()\n",
    "plt.show()"
   ]
  },
  {
   "cell_type": "code",
   "execution_count": 12,
   "metadata": {},
   "outputs": [],
   "source": [
    "#roc_auc_score\n",
    "fpr,tpr,thresholds=roc_curve(y_test,logic.predict_proba(X_test)[:,1])\n"
   ]
  },
  {
   "cell_type": "code",
   "execution_count": 13,
   "metadata": {},
   "outputs": [
    {
     "data": {
      "image/png": "[encoded data removed]",
      "text/plain": [
       "<Figure size 432x288 with 1 Axes>"
      ]
     },
     "metadata": {
      "needs_background": "light"
     },
     "output_type": "display_data"
    }
   ],
   "source": [
    "plt.plot(fpr,tpr,'--',label='logic')\n",
    "plt.plot([0,1],[0,1],'-',label='50%')\n",
    "plt.plot([fpr],[tpr],'r-',ms=10)\n",
    "plt.show()"
   ]
  },
  {
   "cell_type": "code",
   "execution_count": 14,
   "metadata": {},
   "outputs": [],
   "source": [
    "from sklearn.metrics import auc\n",
    "from sklearn.metrics import plot_roc_curve\n"
   ]
  },
  {
   "cell_type": "code",
   "execution_count": 15,
   "metadata": {},
   "outputs": [],
   "source": [
    "cross_kfold=cross_validate(estimator=logic,X=X_train,y=y_train,cv=kfold,n_jobs=-1,\n",
    "                          scoring=['accuracy','roc_auc'])\n",
    "\n",
    "cross_repeat=cross_validate(estimator=logic,X=X_train,y=y_train,cv=repert,n_jobs=-1,scoring=['accuracy','roc_auc'])\n",
    "                          \n",
    "normal=cross_validate(estimator=logic,X=X_train,y=y_train,cv=10,n_jobs=-1,\n",
    "                          scoring=['accuracy','roc_auc'])\n",
    "#scoring 은 https://scikit-learn.org/stable/modules/model_evaluation.html#scoring-parameter\n",
    "#에서 참고"
   ]
  },
  {
   "cell_type": "code",
   "execution_count": 16,
   "metadata": {},
   "outputs": [
    {
     "name": "stdout",
     "output_type": "stream",
     "text": [
      "kfold정확도 test평균점수: 72.6338079279356\n",
      "kfold정확도 test표준편차: 0.6909408173921286\n"
     ]
    }
   ],
   "source": [
    "print(\"kfold정확도 test평균점수:\",cross_kfold['test_accuracy'].mean()*100)\n",
    "print(\"kfold정확도 test표준편차:\",cross_kfold['test_accuracy'].std()*100)"
   ]
  },
  {
   "cell_type": "code",
   "execution_count": 17,
   "metadata": {},
   "outputs": [
    {
     "name": "stdout",
     "output_type": "stream",
     "text": [
      "72.61848713186899\n",
      "1.1688168233516902\n"
     ]
    }
   ],
   "source": [
    "print(cross_repeat['test_accuracy'].mean()*100)\n",
    "print(cross_repeat['test_accuracy'].std()*100)"
   ]
  },
  {
   "cell_type": "code",
   "execution_count": 18,
   "metadata": {},
   "outputs": [
    {
     "name": "stdout",
     "output_type": "stream",
     "text": [
      "72.75146985096394\n",
      "2.00191240814248\n"
     ]
    }
   ],
   "source": [
    "print(normal['test_accuracy'].mean()*100)\n",
    "print(normal['test_accuracy'].std()*100)\n",
    "\n",
    "#별차이가 없다"
   ]
  },
  {
   "cell_type": "code",
   "execution_count": 19,
   "metadata": {},
   "outputs": [],
   "source": [
    "from sklearn.model_selection import RandomizedSearchCV\n",
    "#하이퍼 파라미터값들을 랜덤적으로 지정해서 최상의 것을 찾는다\n",
    "from sklearn.model_selection import GridSearchCV\n",
    "#사용자가 지정한 범위내에 있는 요소들중 가장 기능이 좋은 하이퍼 파라미터를 찾는다\n",
    "from sklearn.pipeline import make_pipeline\n",
    "from sklearn.decomposition import PCA\n",
    "#print(logic.get_params())\n",
    "# 로지스틱의 하이퍼 파마미터 출력"
   ]
  },
  {
   "cell_type": "code",
   "execution_count": 20,
   "metadata": {},
   "outputs": [],
   "source": [
    "#param={'dual':True,'class_wight':'balanced'}"
   ]
  },
  {
   "cell_type": "code",
   "execution_count": 21,
   "metadata": {},
   "outputs": [],
   "source": [
    "#random=RandomizedSearchCV(estimator=logic,n_iter=1,scoring='accuracy',n_jobs=-1,\n",
    "#                         pre_dispatch=5,cv=cross_kfold,\n",
    "#                         param_distributions=param)"
   ]
  },
  {
   "cell_type": "code",
   "execution_count": 22,
   "metadata": {},
   "outputs": [],
   "source": [
    "#random.fit(X_train,y_train)"
   ]
  },
  {
   "cell_type": "code",
   "execution_count": 23,
   "metadata": {},
   "outputs": [],
   "source": [
    "#paran_dist={'C':np.linspace(0.1,10,1).tolist(),\n",
    "#            'max_iter':np.linspace(10,100,10).tolist(),\n",
    "#            'l1_ratios':[0.1,0.3,0.4,0.8]\n",
    "#           }"
   ]
  },
  {
   "cell_type": "code",
   "execution_count": 24,
   "metadata": {},
   "outputs": [],
   "source": [
    "#grid=GridSearchCV(estimator=logic,param_grid=paran_dist,n_jobs=-1,cv=10,scoring='accuracy')"
   ]
  },
  {
   "cell_type": "code",
   "execution_count": 25,
   "metadata": {},
   "outputs": [],
   "source": [
    "#grid.fit(X_train,y_train)"
   ]
  },
  {
   "cell_type": "code",
   "execution_count": 26,
   "metadata": {},
   "outputs": [],
   "source": [
    "#print(logic.get_params())"
   ]
  },
  {
   "cell_type": "code",
   "execution_count": 27,
   "metadata": {},
   "outputs": [],
   "source": [
    "logicpipe=make_pipeline(LogisticRegression(penalty='elasticnet',solver='saga',l1_ratio=0.5))"
   ]
  },
  {
   "cell_type": "code",
   "execution_count": 28,
   "metadata": {},
   "outputs": [
    {
     "name": "stdout",
     "output_type": "stream",
     "text": [
      "dict_keys(['memory', 'steps', 'verbose', 'logisticregression', 'logisticregression__C', 'logisticregression__class_weight', 'logisticregression__dual', 'logisticregression__fit_intercept', 'logisticregression__intercept_scaling', 'logisticregression__l1_ratio', 'logisticregression__max_iter', 'logisticregression__multi_class', 'logisticregression__n_jobs', 'logisticregression__penalty', 'logisticregression__random_state', 'logisticregression__solver', 'logisticregression__tol', 'logisticregression__verbose', 'logisticregression__warm_start'])\n"
     ]
    }
   ],
   "source": [
    "print(logicpipe.get_params().keys())"
   ]
  },
  {
   "cell_type": "code",
   "execution_count": 29,
   "metadata": {},
   "outputs": [
    {
     "data": {
      "text/plain": [
       "Pipeline(memory=None,\n",
       "         steps=[('logisticregression',\n",
       "                 LogisticRegression(C=1.0, class_weight=None, dual=False,\n",
       "                                    fit_intercept=True, intercept_scaling=1,\n",
       "                                    l1_ratio=0.5, max_iter=100,\n",
       "                                    multi_class='auto', n_jobs=None,\n",
       "                                    penalty='elasticnet', random_state=None,\n",
       "                                    solver='saga', tol=0.0001, verbose=0,\n",
       "                                    warm_start=False))],\n",
       "         verbose=False)"
      ]
     },
     "execution_count": 29,
     "metadata": {},
     "output_type": "execute_result"
    }
   ],
   "source": [
    "logicpipe.fit(X_train,y_train)"
   ]
  },
  {
   "cell_type": "code",
   "execution_count": 30,
   "metadata": {},
   "outputs": [],
   "source": [
    "#param_pca=[1,2,3,4,5,6,7,8,9]\n",
    "param_l1_ratio=[0.1,0.2,0.3,0.4,0.5,0.6,0.7]\n",
    "param_penalty=['elasticnet']\n",
    "param_solver=['saga']\n",
    "param_gid=[{'logisticregression__l1_ratio':param_l1_ratio,\n",
    "           'logisticregression__solver':param_solver}]"
   ]
  },
  {
   "cell_type": "code",
   "execution_count": 31,
   "metadata": {},
   "outputs": [],
   "source": [
    "gs=GridSearchCV(estimator=logicpipe,param_grid=param_gid,scoring='accuracy',cv=repert,n_jobs=-1)"
   ]
  },
  {
   "cell_type": "code",
   "execution_count": 32,
   "metadata": {},
   "outputs": [
    {
     "data": {
      "text/plain": [
       "GridSearchCV(cv=RepeatedKFold(n_repeats=10, n_splits=5, random_state=None),\n",
       "             error_score=nan,\n",
       "             estimator=Pipeline(memory=None,\n",
       "                                steps=[('logisticregression',\n",
       "                                        LogisticRegression(C=1.0,\n",
       "                                                           class_weight=None,\n",
       "                                                           dual=False,\n",
       "                                                           fit_intercept=True,\n",
       "                                                           intercept_scaling=1,\n",
       "                                                           l1_ratio=0.5,\n",
       "                                                           max_iter=100,\n",
       "                                                           multi_class='auto',\n",
       "                                                           n_jobs=None,\n",
       "                                                           penalty='elasticnet',\n",
       "                                                           random_state=None,\n",
       "                                                           solver='saga',\n",
       "                                                           tol=0.0001,\n",
       "                                                           verbose=0,\n",
       "                                                           warm_start=False))],\n",
       "                                verbose=False),\n",
       "             iid='deprecated', n_jobs=-1,\n",
       "             param_grid=[{'logisticregression__l1_ratio': [0.1, 0.2, 0.3, 0.4,\n",
       "                                                           0.5, 0.6, 0.7],\n",
       "                          'logisticregression__solver': ['saga']}],\n",
       "             pre_dispatch='2*n_jobs', refit=True, return_train_score=False,\n",
       "             scoring='accuracy', verbose=0)"
      ]
     },
     "execution_count": 32,
     "metadata": {},
     "output_type": "execute_result"
    }
   ],
   "source": [
    "gs.fit(X_train,y_train)"
   ]
  },
  {
   "cell_type": "code",
   "execution_count": 33,
   "metadata": {},
   "outputs": [
    {
     "name": "stdout",
     "output_type": "stream",
     "text": [
      "{'mean_fit_time': array([0.01918622, 0.02389861, 0.02819118, 0.03041026, 0.02848534,\n",
      "       0.02739099, 0.01850723]), 'std_fit_time': array([0.0017372 , 0.00493419, 0.00328626, 0.00278476, 0.00199454,\n",
      "       0.00257782, 0.00135817]), 'mean_score_time': array([0.00052077, 0.00064211, 0.00069224, 0.00069654, 0.00069803,\n",
      "       0.00064547, 0.00051624]), 'std_score_time': array([6.09197832e-05, 2.26017252e-04, 5.48293319e-05, 8.34850527e-05,\n",
      "       2.21542007e-04, 1.04042855e-04, 8.14979964e-05]), 'param_logisticregression__l1_ratio': masked_array(data=[0.1, 0.2, 0.3, 0.4, 0.5, 0.6, 0.7],\n",
      "             mask=[False, False, False, False, False, False, False],\n",
      "       fill_value='?',\n",
      "            dtype=object), 'param_logisticregression__solver': masked_array(data=['saga', 'saga', 'saga', 'saga', 'saga', 'saga', 'saga'],\n",
      "             mask=[False, False, False, False, False, False, False],\n",
      "       fill_value='?',\n",
      "            dtype=object), 'params': [{'logisticregression__l1_ratio': 0.1, 'logisticregression__solver': 'saga'}, {'logisticregression__l1_ratio': 0.2, 'logisticregression__solver': 'saga'}, {'logisticregression__l1_ratio': 0.3, 'logisticregression__solver': 'saga'}, {'logisticregression__l1_ratio': 0.4, 'logisticregression__solver': 'saga'}, {'logisticregression__l1_ratio': 0.5, 'logisticregression__solver': 'saga'}, {'logisticregression__l1_ratio': 0.6, 'logisticregression__solver': 'saga'}, {'logisticregression__l1_ratio': 0.7, 'logisticregression__solver': 'saga'}], 'split0_test_score': array([0.72259696, 0.72259696, 0.72259696, 0.72259696, 0.72259696,\n",
      "       0.72259696, 0.72259696]), 'split1_test_score': array([0.72849916, 0.72849916, 0.72849916, 0.72765599, 0.72765599,\n",
      "       0.72765599, 0.72765599]), 'split2_test_score': array([0.70801688, 0.70801688, 0.70801688, 0.70801688, 0.70801688,\n",
      "       0.70801688, 0.70801688]), 'split3_test_score': array([0.73333333, 0.73333333, 0.73333333, 0.73333333, 0.73333333,\n",
      "       0.73333333, 0.73333333]), 'split4_test_score': array([0.73755274, 0.73755274, 0.73670886, 0.73670886, 0.73755274,\n",
      "       0.73755274, 0.73755274]), 'split5_test_score': array([0.72091062, 0.72091062, 0.72091062, 0.72091062, 0.72091062,\n",
      "       0.72091062, 0.72091062]), 'split6_test_score': array([0.70994941, 0.70994941, 0.70994941, 0.70994941, 0.70994941,\n",
      "       0.70994941, 0.70994941]), 'split7_test_score': array([0.72995781, 0.72995781, 0.72995781, 0.72995781, 0.72995781,\n",
      "       0.72995781, 0.72995781]), 'split8_test_score': array([0.73417722, 0.73417722, 0.73417722, 0.73417722, 0.73417722,\n",
      "       0.73417722, 0.7350211 ]), 'split9_test_score': array([0.73924051, 0.73924051, 0.73924051, 0.73924051, 0.73924051,\n",
      "       0.73924051, 0.73924051]), 'split10_test_score': array([0.69224283, 0.69224283, 0.69224283, 0.69224283, 0.69224283,\n",
      "       0.69224283, 0.69224283]), 'split11_test_score': array([0.74030354, 0.74030354, 0.74030354, 0.74030354, 0.74030354,\n",
      "       0.74030354, 0.74030354]), 'split12_test_score': array([0.72742616, 0.72742616, 0.72742616, 0.72742616, 0.72742616,\n",
      "       0.72742616, 0.72742616]), 'split13_test_score': array([0.72489451, 0.72489451, 0.72489451, 0.72489451, 0.72489451,\n",
      "       0.72489451, 0.72489451]), 'split14_test_score': array([0.73755274, 0.73755274, 0.73755274, 0.73755274, 0.73670886,\n",
      "       0.73670886, 0.73670886]), 'split15_test_score': array([0.72849916, 0.72849916, 0.72849916, 0.72849916, 0.72849916,\n",
      "       0.72849916, 0.72849916]), 'split16_test_score': array([0.73187184, 0.73187184, 0.73187184, 0.73187184, 0.73187184,\n",
      "       0.73187184, 0.73187184]), 'split17_test_score': array([0.73755274, 0.73755274, 0.73755274, 0.73755274, 0.73755274,\n",
      "       0.73755274, 0.73755274]), 'split18_test_score': array([0.71561181, 0.71561181, 0.71561181, 0.71476793, 0.71476793,\n",
      "       0.71476793, 0.71476793]), 'split19_test_score': array([0.70632911, 0.70632911, 0.70632911, 0.70632911, 0.70632911,\n",
      "       0.70632911, 0.70632911]), 'split20_test_score': array([0.72849916, 0.72849916, 0.72849916, 0.72849916, 0.72849916,\n",
      "       0.72849916, 0.72849916]), 'split21_test_score': array([0.72175379, 0.72175379, 0.72175379, 0.72175379, 0.72175379,\n",
      "       0.72175379, 0.72175379]), 'split22_test_score': array([0.7443038, 0.7443038, 0.7443038, 0.7443038, 0.7443038, 0.7443038,\n",
      "       0.7443038]), 'split23_test_score': array([0.73248945, 0.73248945, 0.73164557, 0.73080169, 0.73080169,\n",
      "       0.73164557, 0.73248945]), 'split24_test_score': array([0.70042194, 0.70042194, 0.70042194, 0.69957806, 0.69957806,\n",
      "       0.69957806, 0.69957806]), 'split25_test_score': array([0.71247892, 0.71332209, 0.71332209, 0.71332209, 0.71416526,\n",
      "       0.71416526, 0.71416526]), 'split26_test_score': array([0.72344013, 0.72344013, 0.72344013, 0.72344013, 0.72344013,\n",
      "       0.72344013, 0.72344013]), 'split27_test_score': array([0.72151899, 0.72151899, 0.72236287, 0.72236287, 0.72236287,\n",
      "       0.72236287, 0.72236287]), 'split28_test_score': array([0.73670886, 0.73670886, 0.73670886, 0.73670886, 0.73670886,\n",
      "       0.73670886, 0.73670886]), 'split29_test_score': array([0.73755274, 0.73755274, 0.73839662, 0.73839662, 0.73839662,\n",
      "       0.73839662, 0.73839662]), 'split30_test_score': array([0.73946037, 0.73946037, 0.73946037, 0.73946037, 0.73946037,\n",
      "       0.73946037, 0.73946037]), 'split31_test_score': array([0.71500843, 0.71500843, 0.71500843, 0.71416526, 0.71500843,\n",
      "       0.71500843, 0.71500843]), 'split32_test_score': array([0.72827004, 0.72827004, 0.72827004, 0.72827004, 0.72827004,\n",
      "       0.72827004, 0.72827004]), 'split33_test_score': array([0.70379747, 0.70379747, 0.70379747, 0.70379747, 0.70379747,\n",
      "       0.70464135, 0.70464135]), 'split34_test_score': array([0.73924051, 0.73924051, 0.73924051, 0.73924051, 0.73924051,\n",
      "       0.73924051, 0.73924051]), 'split35_test_score': array([0.72681282, 0.72681282, 0.72681282, 0.72681282, 0.72681282,\n",
      "       0.72681282, 0.72681282]), 'split36_test_score': array([0.70573356, 0.70573356, 0.70573356, 0.70573356, 0.70573356,\n",
      "       0.70573356, 0.70573356]), 'split37_test_score': array([0.72742616, 0.72742616, 0.72658228, 0.72658228, 0.72658228,\n",
      "       0.72658228, 0.72658228]), 'split38_test_score': array([0.73839662, 0.73839662, 0.73839662, 0.73839662, 0.73839662,\n",
      "       0.73839662, 0.73924051]), 'split39_test_score': array([0.73417722, 0.73417722, 0.7350211 , 0.7350211 , 0.7350211 ,\n",
      "       0.7350211 , 0.73586498]), 'split40_test_score': array([0.72344013, 0.72344013, 0.72344013, 0.72344013, 0.72344013,\n",
      "       0.72344013, 0.72344013]), 'split41_test_score': array([0.74198988, 0.74198988, 0.74198988, 0.74114671, 0.74114671,\n",
      "       0.74114671, 0.74114671]), 'split42_test_score': array([0.7257384, 0.7257384, 0.7257384, 0.7257384, 0.7257384, 0.7257384,\n",
      "       0.7257384]), 'split43_test_score': array([0.72489451, 0.72489451, 0.72489451, 0.72489451, 0.72489451,\n",
      "       0.72489451, 0.72489451]), 'split44_test_score': array([0.72742616, 0.72742616, 0.72742616, 0.72742616, 0.72742616,\n",
      "       0.72742616, 0.72742616]), 'split45_test_score': array([0.74620573, 0.74620573, 0.74620573, 0.74620573, 0.74620573,\n",
      "       0.74620573, 0.74620573]), 'split46_test_score': array([0.6989882 , 0.6989882 , 0.6989882 , 0.6989882 , 0.6989882 ,\n",
      "       0.6989882 , 0.69814503]), 'split47_test_score': array([0.72742616, 0.72742616, 0.72742616, 0.72742616, 0.72742616,\n",
      "       0.72742616, 0.72742616]), 'split48_test_score': array([0.71814346, 0.71814346, 0.71814346, 0.71814346, 0.71814346,\n",
      "       0.71814346, 0.71814346]), 'split49_test_score': array([0.73586498, 0.73586498, 0.73586498, 0.73586498, 0.73586498,\n",
      "       0.73586498, 0.73586498]), 'mean_test_score': array([0.72588255, 0.72589942, 0.72589942, 0.72579819, 0.72583192,\n",
      "       0.72586568, 0.72591632]), 'std_test_score': array([0.01257475, 0.01255732, 0.01255505, 0.01258788, 0.01255662,\n",
      "       0.01253476, 0.01262153]), 'rank_test_score': array([4, 3, 2, 7, 6, 5, 1], dtype=int32)}\n"
     ]
    }
   ],
   "source": [
    "print(gs.cv_results_)"
   ]
  },
  {
   "cell_type": "code",
   "execution_count": 34,
   "metadata": {},
   "outputs": [
    {
     "name": "stdout",
     "output_type": "stream",
     "text": [
      "0.7259163233504813\n"
     ]
    }
   ],
   "source": [
    "print(gs.best_score_.mean())"
   ]
  },
  {
   "cell_type": "code",
   "execution_count": 35,
   "metadata": {},
   "outputs": [
    {
     "name": "stdout",
     "output_type": "stream",
     "text": [
      "{'logisticregression__l1_ratio': 0.7, 'logisticregression__solver': 'saga'}\n"
     ]
    }
   ],
   "source": [
    "print(gs.best_params_)"
   ]
  },
  {
   "cell_type": "code",
   "execution_count": 36,
   "metadata": {},
   "outputs": [
    {
     "name": "stdout",
     "output_type": "stream",
     "text": [
      "Pipeline(memory=None,\n",
      "         steps=[('logisticregression',\n",
      "                 LogisticRegression(C=1.0, class_weight=None, dual=False,\n",
      "                                    fit_intercept=True, intercept_scaling=1,\n",
      "                                    l1_ratio=0.7, max_iter=100,\n",
      "                                    multi_class='auto', n_jobs=None,\n",
      "                                    penalty='elasticnet', random_state=None,\n",
      "                                    solver='saga', tol=0.0001, verbose=0,\n",
      "                                    warm_start=False))],\n",
      "         verbose=False)\n"
     ]
    }
   ],
   "source": [
    "print(gs.best_estimator_)"
   ]
  },
  {
   "cell_type": "code",
   "execution_count": 37,
   "metadata": {},
   "outputs": [],
   "source": [
    "new=gs.best_estimator_\n",
    "y_pred_gs=new.predict(X_test)"
   ]
  },
  {
   "cell_type": "code",
   "execution_count": null,
   "metadata": {},
   "outputs": [],
   "source": []
  },
  {
   "cell_type": "code",
   "execution_count": 38,
   "metadata": {},
   "outputs": [
    {
     "name": "stdout",
     "output_type": "stream",
     "text": [
      "         Predict[0]  predict[1]\n",
      "True[0]        1410         515\n",
      "True[1]         595        1432\n",
      "Classification Report\n",
      "              precision    recall  f1-score   support\n",
      "\n",
      "           0       0.70      0.73      0.72      1925\n",
      "           1       0.74      0.71      0.72      2027\n",
      "\n",
      "    accuracy                           0.72      3952\n",
      "   macro avg       0.72      0.72      0.72      3952\n",
      "weighted avg       0.72      0.72      0.72      3952\n",
      "\n"
     ]
    }
   ],
   "source": [
    "confmat1=pd.DataFrame(confusion_matrix(y_test,y_pred_gs),\n",
    "index=['True[0]','True[1]'],\n",
    "columns=['Predict[0]','predict[1]'])\n",
    "print(confmat1)\n",
    "print('Classification Report')\n",
    "print(classification_report(y_test,y_pred_gs))\n"
   ]
  },
  {
   "cell_type": "code",
   "execution_count": 39,
   "metadata": {},
   "outputs": [],
   "source": [
    "train_sizes,train_scores,test_scores=\\\n",
    "    learning_curve(estimator=new,#수정\n",
    "    X=X_train,\n",
    "    y=y_train,\n",
    "    train_sizes=np.linspace(0.1,1.0,10),\n",
    "    n_jobs=-1,\n",
    "    cv=repert)"
   ]
  },
  {
   "cell_type": "code",
   "execution_count": 40,
   "metadata": {},
   "outputs": [
    {
     "data": {
      "image/png": "[encoded data removed]",
      "text/plain": [
       "<Figure size 432x288 with 1 Axes>"
      ]
     },
     "metadata": {
      "needs_background": "light"
     },
     "output_type": "display_data"
    }
   ],
   "source": [
    "\n",
    "train_mean=np.mean(train_scores,axis=1)\n",
    "train_std=np.std(train_scores,axis=1)\n",
    "test_mean=np.mean(test_scores,axis=1)\n",
    "\n",
    "test_std=np.std(test_scores,axis=1)\n",
    "\n",
    "plt.plot(train_sizes,train_mean,\n",
    "color='blue',marker='o',\n",
    "markersize=5,label='training accuracy')\n",
    "\n",
    "plt.fill_between(train_sizes,\n",
    "train_mean+train_std,\n",
    "train_mean-train_std,\n",
    "alpha=0.5,color='blue')\n",
    "\n",
    "plt.plot(train_sizes,test_mean,\n",
    "color='green',linestyle='--',\n",
    "marker='s',markersize=5,\n",
    "label='validation accuracy')\n",
    "plt.fill_between(train_sizes,\n",
    "test_mean+test_std,\n",
    "test_mean-test_std,\n",
    "alpha=0.15,color='green')\n",
    "\n",
    "plt.grid()\n",
    "plt.xlabel('number of trainning samples')\n",
    "plt.ylabel('accuracy')\n",
    "plt.legend(loc='lower right')\n",
    "plt.ylim([0,1.03])#수정  y값의 범위\n",
    "plt.tight_layout()\n",
    "plt.show()"
   ]
  },
  {
   "cell_type": "code",
   "execution_count": 41,
   "metadata": {},
   "outputs": [],
   "source": [
    "new_logic=LogisticRegression(l1_ratio=0.5, penalty='elasticnet',\n",
    "                                    solver='saga',n_jobs=-1)"
   ]
  },
  {
   "cell_type": "code",
   "execution_count": 42,
   "metadata": {},
   "outputs": [
    {
     "data": {
      "text/plain": [
       "LogisticRegression(C=1.0, class_weight=None, dual=False, fit_intercept=True,\n",
       "                   intercept_scaling=1, l1_ratio=0.5, max_iter=100,\n",
       "                   multi_class='auto', n_jobs=-1, penalty='elasticnet',\n",
       "                   random_state=None, solver='saga', tol=0.0001, verbose=0,\n",
       "                   warm_start=False)"
      ]
     },
     "execution_count": 42,
     "metadata": {},
     "output_type": "execute_result"
    }
   ],
   "source": [
    "new_logic.fit(X_train,y_train)"
   ]
  },
  {
   "cell_type": "code",
   "execution_count": 43,
   "metadata": {},
   "outputs": [
    {
     "name": "stdout",
     "output_type": "stream",
     "text": [
      "B값들 [[-0.02980044  0.02227965  0.0195468   0.58823281 -0.62591047  0.01071448\n",
      "   0.16239631  0.08975747  0.17104782 -0.13267991 -0.00348922 -0.05801881\n",
      "  -0.04466978  0.20492655  0.35327421]]\n"
     ]
    }
   ],
   "source": [
    "print(\"B값들 {}\".format(new_logic.coef_))\n",
    "#골드차이가 가장 영향을준다는걸 알수있다"
   ]
  },
  {
   "cell_type": "code",
   "execution_count": 44,
   "metadata": {},
   "outputs": [],
   "source": [
    "fram=pd.DataFrame(data=X_train,columns=col)"
   ]
  },
  {
   "cell_type": "code",
   "execution_count": 45,
   "metadata": {},
   "outputs": [
    {
     "name": "stdout",
     "output_type": "stream",
     "text": [
      "           B와드     B와드파괴       B퍼블        B킬       B데스     B어시스트    B드래곤전령  \\\n",
      "0     0.911867  0.542521 -0.995455 -0.052946 -0.056005 -0.649430 -0.751176   \n",
      "1    -0.455503  0.085121  1.004566 -1.382662 -0.394034 -1.142598 -0.751176   \n",
      "2    -0.350321  3.286921  1.004566 -0.717804 -1.408121 -0.649430 -0.751176   \n",
      "3    -0.455503  0.085121 -0.995455  0.279483  1.296110 -0.649430  1.331246   \n",
      "4    -0.192547  2.372121 -0.995455 -1.382662 -0.732063 -1.142598 -0.751176   \n",
      "...        ...       ...       ...       ...       ...       ...       ...   \n",
      "5922 -0.350321  0.085121 -0.995455 -1.382662 -0.394034 -1.389182 -0.751176   \n",
      "5923 -0.350321 -0.372279  1.004566  1.941627 -0.056005  0.830073  1.331246   \n",
      "5924 -0.402912 -0.829679  1.004566  1.609198 -1.070092  1.076657  1.331246   \n",
      "5925 -0.455503 -0.829679 -0.995455  0.279483  0.620052  0.336905 -0.751176   \n",
      "5926 -0.297730 -0.372279 -0.995455 -0.717804 -0.056005 -0.896014 -0.751176   \n",
      "\n",
      "         B타워파괴    B정글몬스터      R드래곤     R타워파괴       RCS    R정글몬스터    분당cs차이  \\\n",
      "0    -0.206072  0.154889  1.184689 -0.196571  1.365936  1.052719 -1.064914   \n",
      "1    -0.206072  0.558596  1.184689 -0.196571  1.320339  0.657735 -0.578382   \n",
      "2    -0.206072 -0.349744 -0.844104 -0.196571  1.046756  0.460243 -0.416205   \n",
      "3     3.948314 -0.652524 -0.844104 -0.196571  0.408397 -0.823456 -0.805430   \n",
      "4    -0.206072 -0.753450 -0.844104 -0.196571  0.864368 -0.132233  0.005456   \n",
      "...        ...       ...       ...       ...       ...       ...       ...   \n",
      "5922 -0.206072  0.962302  1.184689 -0.196571  0.590785  1.348958  0.135198   \n",
      "5923 -0.206072 -0.248817 -0.844104 -0.196571 -0.913919  1.250212  1.465052   \n",
      "5924 -0.206072  0.962302 -0.844104 -0.196571  0.089217 -0.724710 -0.156721   \n",
      "5925 -0.206072 -0.551597  1.184689 -0.196571  0.545188 -0.428472  0.459552   \n",
      "5926 -0.206072  0.558596  1.184689 -0.196571  0.636382  0.855227  0.232504   \n",
      "\n",
      "          레벨차이  \n",
      "0     0.428544  \n",
      "1    -0.400972  \n",
      "2     0.013786  \n",
      "3    -1.645246  \n",
      "4     0.013786  \n",
      "...        ...  \n",
      "5922  0.013786  \n",
      "5923  1.672818  \n",
      "5924  1.672818  \n",
      "5925  0.013786  \n",
      "5926  0.013786  \n",
      "\n",
      "[5927 rows x 15 columns]\n"
     ]
    }
   ],
   "source": [
    "print(fram)"
   ]
  },
  {
   "cell_type": "code",
   "execution_count": 46,
   "metadata": {},
   "outputs": [],
   "source": [
    "corr=X.corr()"
   ]
  },
  {
   "cell_type": "code",
   "execution_count": 47,
   "metadata": {},
   "outputs": [
    {
     "name": "stdout",
     "output_type": "stream",
     "text": [
      "             B와드     B와드파괴       B퍼블        B킬       B데스     B어시스트    B드래곤전령  \\\n",
      "B와드     1.000000  0.034447  0.003228  0.018138 -0.002612  0.033217  0.017676   \n",
      "B와드파괴   0.034447  1.000000  0.017717  0.033748 -0.073182  0.067793  0.040504   \n",
      "B퍼블     0.003228  0.017717  1.000000  0.269425 -0.247929  0.229485  0.134309   \n",
      "B킬      0.018138  0.033748  0.269425  1.000000  0.004044  0.813667  0.170436   \n",
      "B데스    -0.002612 -0.073182 -0.247929  0.004044  1.000000 -0.026372 -0.188852   \n",
      "B어시스트   0.033217  0.067793  0.229485  0.813667 -0.026372  1.000000  0.170873   \n",
      "B드래곤전령  0.017676  0.040504  0.134309  0.170436 -0.188852  0.170873  1.000000   \n",
      "B타워파괴   0.009462 -0.009150  0.083316  0.180314 -0.071441  0.123663  0.039750   \n",
      "B정글몬스터  0.010501 -0.023452  0.018190 -0.112506 -0.228102 -0.134023  0.159595   \n",
      "R드래곤   -0.020121 -0.034439 -0.135327 -0.207949  0.150746 -0.189563 -0.631930   \n",
      "R타워파괴  -0.008225 -0.023943 -0.069584 -0.082491  0.156780 -0.060880 -0.032865   \n",
      "RCS    -0.012395  0.040023 -0.156711 -0.472203 -0.040521 -0.337515 -0.059803   \n",
      "R정글몬스터  0.001224 -0.035732 -0.024559 -0.214454 -0.100271 -0.160915 -0.098446   \n",
      "분당cs차이 -0.015188  0.050091  0.199729  0.312570 -0.302305  0.195184  0.103585   \n",
      "레벨차이    0.027576  0.076164  0.229811  0.540415 -0.541094  0.414433  0.198082   \n",
      "\n",
      "           B타워파괴    B정글몬스터      R드래곤     R타워파괴       RCS    R정글몬스터    분당cs차이  \\\n",
      "B와드     0.009462  0.010501 -0.020121 -0.008225 -0.012395  0.001224 -0.015188   \n",
      "B와드파괴  -0.009150 -0.023452 -0.034439 -0.023943  0.040023 -0.035732  0.050091   \n",
      "B퍼블     0.083316  0.018190 -0.135327 -0.069584 -0.156711 -0.024559  0.199729   \n",
      "B킬      0.180314 -0.112506 -0.207949 -0.082491 -0.472203 -0.214454  0.312570   \n",
      "B데스    -0.071441 -0.228102  0.150746  0.156780 -0.040521 -0.100271 -0.302305   \n",
      "B어시스트   0.123663 -0.134023 -0.189563 -0.060880 -0.337515 -0.160915  0.195184   \n",
      "B드래곤전령  0.039750  0.159595 -0.631930 -0.032865 -0.059803 -0.098446  0.103585   \n",
      "B타워파괴   1.000000  0.008165 -0.028482  0.011738 -0.186879 -0.038505  0.197532   \n",
      "B정글몬스터  0.008165  1.000000 -0.053295 -0.048078  0.109806 -0.026363  0.043945   \n",
      "R드래곤   -0.028482 -0.053295  1.000000  0.026950  0.103151  0.214187 -0.111162   \n",
      "R타워파괴   0.011738 -0.048078  0.026950  1.000000  0.092564  0.006374 -0.168667   \n",
      "RCS    -0.186879  0.109806  0.103151  0.092564  1.000000  0.165652 -0.707796   \n",
      "R정글몬스터 -0.038505 -0.026363  0.214187  0.006374  0.165652  1.000000 -0.052155   \n",
      "분당cs차이  0.197532  0.043945 -0.111162 -0.168667 -0.707796 -0.052155  1.000000   \n",
      "레벨차이    0.209832  0.245719 -0.210127 -0.188908 -0.391134 -0.252151  0.569276   \n",
      "\n",
      "            레벨차이  \n",
      "B와드     0.027576  \n",
      "B와드파괴   0.076164  \n",
      "B퍼블     0.229811  \n",
      "B킬      0.540415  \n",
      "B데스    -0.541094  \n",
      "B어시스트   0.414433  \n",
      "B드래곤전령  0.198082  \n",
      "B타워파괴   0.209832  \n",
      "B정글몬스터  0.245719  \n",
      "R드래곤   -0.210127  \n",
      "R타워파괴  -0.188908  \n",
      "RCS    -0.391134  \n",
      "R정글몬스터 -0.252151  \n",
      "분당cs차이  0.569276  \n",
      "레벨차이    1.000000  \n"
     ]
    }
   ],
   "source": [
    "print(corr)\n",
    "import seaborn as sns"
   ]
  },
  {
   "cell_type": "code",
   "execution_count": 48,
   "metadata": {},
   "outputs": [
    {
     "name": "stderr",
     "output_type": "stream",
     "text": [
      "/Users/leonilpark/opt/anaconda3/lib/python3.7/site-packages/matplotlib/backends/backend_agg.py:211: RuntimeWarning: Glyph 50752 missing from current font.\n",
      "  font.set_text(s, 0.0, flags=flags)\n",
      "/Users/leonilpark/opt/anaconda3/lib/python3.7/site-packages/matplotlib/backends/backend_agg.py:211: RuntimeWarning: Glyph 46300 missing from current font.\n",
      "  font.set_text(s, 0.0, flags=flags)\n",
      "/Users/leonilpark/opt/anaconda3/lib/python3.7/site-packages/matplotlib/backends/backend_agg.py:211: RuntimeWarning: Glyph 54028 missing from current font.\n",
      "  font.set_text(s, 0.0, flags=flags)\n",
      "/Users/leonilpark/opt/anaconda3/lib/python3.7/site-packages/matplotlib/backends/backend_agg.py:211: RuntimeWarning: Glyph 44340 missing from current font.\n",
      "  font.set_text(s, 0.0, flags=flags)\n",
      "/Users/leonilpark/opt/anaconda3/lib/python3.7/site-packages/matplotlib/backends/backend_agg.py:211: RuntimeWarning: Glyph 54140 missing from current font.\n",
      "  font.set_text(s, 0.0, flags=flags)\n",
      "/Users/leonilpark/opt/anaconda3/lib/python3.7/site-packages/matplotlib/backends/backend_agg.py:211: RuntimeWarning: Glyph 48660 missing from current font.\n",
      "  font.set_text(s, 0.0, flags=flags)\n",
      "/Users/leonilpark/opt/anaconda3/lib/python3.7/site-packages/matplotlib/backends/backend_agg.py:211: RuntimeWarning: Glyph 53420 missing from current font.\n",
      "  font.set_text(s, 0.0, flags=flags)\n",
      "/Users/leonilpark/opt/anaconda3/lib/python3.7/site-packages/matplotlib/backends/backend_agg.py:211: RuntimeWarning: Glyph 45936 missing from current font.\n",
      "  font.set_text(s, 0.0, flags=flags)\n",
      "/Users/leonilpark/opt/anaconda3/lib/python3.7/site-packages/matplotlib/backends/backend_agg.py:211: RuntimeWarning: Glyph 49828 missing from current font.\n",
      "  font.set_text(s, 0.0, flags=flags)\n",
      "/Users/leonilpark/opt/anaconda3/lib/python3.7/site-packages/matplotlib/backends/backend_agg.py:211: RuntimeWarning: Glyph 50612 missing from current font.\n",
      "  font.set_text(s, 0.0, flags=flags)\n",
      "/Users/leonilpark/opt/anaconda3/lib/python3.7/site-packages/matplotlib/backends/backend_agg.py:211: RuntimeWarning: Glyph 49884 missing from current font.\n",
      "  font.set_text(s, 0.0, flags=flags)\n",
      "/Users/leonilpark/opt/anaconda3/lib/python3.7/site-packages/matplotlib/backends/backend_agg.py:211: RuntimeWarning: Glyph 53944 missing from current font.\n",
      "  font.set_text(s, 0.0, flags=flags)\n",
      "/Users/leonilpark/opt/anaconda3/lib/python3.7/site-packages/matplotlib/backends/backend_agg.py:211: RuntimeWarning: Glyph 47000 missing from current font.\n",
      "  font.set_text(s, 0.0, flags=flags)\n",
      "/Users/leonilpark/opt/anaconda3/lib/python3.7/site-packages/matplotlib/backends/backend_agg.py:211: RuntimeWarning: Glyph 44260 missing from current font.\n",
      "  font.set_text(s, 0.0, flags=flags)\n",
      "/Users/leonilpark/opt/anaconda3/lib/python3.7/site-packages/matplotlib/backends/backend_agg.py:211: RuntimeWarning: Glyph 51204 missing from current font.\n",
      "  font.set_text(s, 0.0, flags=flags)\n",
      "/Users/leonilpark/opt/anaconda3/lib/python3.7/site-packages/matplotlib/backends/backend_agg.py:211: RuntimeWarning: Glyph 47161 missing from current font.\n",
      "  font.set_text(s, 0.0, flags=flags)\n",
      "/Users/leonilpark/opt/anaconda3/lib/python3.7/site-packages/matplotlib/backends/backend_agg.py:211: RuntimeWarning: Glyph 53440 missing from current font.\n",
      "  font.set_text(s, 0.0, flags=flags)\n",
      "/Users/leonilpark/opt/anaconda3/lib/python3.7/site-packages/matplotlib/backends/backend_agg.py:211: RuntimeWarning: Glyph 50892 missing from current font.\n",
      "  font.set_text(s, 0.0, flags=flags)\n",
      "/Users/leonilpark/opt/anaconda3/lib/python3.7/site-packages/matplotlib/backends/backend_agg.py:211: RuntimeWarning: Glyph 51221 missing from current font.\n",
      "  font.set_text(s, 0.0, flags=flags)\n",
      "/Users/leonilpark/opt/anaconda3/lib/python3.7/site-packages/matplotlib/backends/backend_agg.py:211: RuntimeWarning: Glyph 44544 missing from current font.\n",
      "  font.set_text(s, 0.0, flags=flags)\n",
      "/Users/leonilpark/opt/anaconda3/lib/python3.7/site-packages/matplotlib/backends/backend_agg.py:211: RuntimeWarning: Glyph 47788 missing from current font.\n",
      "  font.set_text(s, 0.0, flags=flags)\n",
      "/Users/leonilpark/opt/anaconda3/lib/python3.7/site-packages/matplotlib/backends/backend_agg.py:211: RuntimeWarning: Glyph 53552 missing from current font.\n",
      "  font.set_text(s, 0.0, flags=flags)\n",
      "/Users/leonilpark/opt/anaconda3/lib/python3.7/site-packages/matplotlib/backends/backend_agg.py:211: RuntimeWarning: Glyph 48516 missing from current font.\n",
      "  font.set_text(s, 0.0, flags=flags)\n",
      "/Users/leonilpark/opt/anaconda3/lib/python3.7/site-packages/matplotlib/backends/backend_agg.py:211: RuntimeWarning: Glyph 45817 missing from current font.\n",
      "  font.set_text(s, 0.0, flags=flags)\n",
      "/Users/leonilpark/opt/anaconda3/lib/python3.7/site-packages/matplotlib/backends/backend_agg.py:211: RuntimeWarning: Glyph 52264 missing from current font.\n",
      "  font.set_text(s, 0.0, flags=flags)\n",
      "/Users/leonilpark/opt/anaconda3/lib/python3.7/site-packages/matplotlib/backends/backend_agg.py:211: RuntimeWarning: Glyph 51060 missing from current font.\n",
      "  font.set_text(s, 0.0, flags=flags)\n",
      "/Users/leonilpark/opt/anaconda3/lib/python3.7/site-packages/matplotlib/backends/backend_agg.py:211: RuntimeWarning: Glyph 47112 missing from current font.\n",
      "  font.set_text(s, 0.0, flags=flags)\n",
      "/Users/leonilpark/opt/anaconda3/lib/python3.7/site-packages/matplotlib/backends/backend_agg.py:211: RuntimeWarning: Glyph 48296 missing from current font.\n",
      "  font.set_text(s, 0.0, flags=flags)\n",
      "/Users/leonilpark/opt/anaconda3/lib/python3.7/site-packages/matplotlib/backends/backend_agg.py:180: RuntimeWarning: Glyph 50752 missing from current font.\n",
      "  font.set_text(s, 0, flags=flags)\n",
      "/Users/leonilpark/opt/anaconda3/lib/python3.7/site-packages/matplotlib/backends/backend_agg.py:180: RuntimeWarning: Glyph 46300 missing from current font.\n",
      "  font.set_text(s, 0, flags=flags)\n",
      "/Users/leonilpark/opt/anaconda3/lib/python3.7/site-packages/matplotlib/backends/backend_agg.py:180: RuntimeWarning: Glyph 54028 missing from current font.\n",
      "  font.set_text(s, 0, flags=flags)\n",
      "/Users/leonilpark/opt/anaconda3/lib/python3.7/site-packages/matplotlib/backends/backend_agg.py:180: RuntimeWarning: Glyph 44340 missing from current font.\n",
      "  font.set_text(s, 0, flags=flags)\n",
      "/Users/leonilpark/opt/anaconda3/lib/python3.7/site-packages/matplotlib/backends/backend_agg.py:180: RuntimeWarning: Glyph 54140 missing from current font.\n",
      "  font.set_text(s, 0, flags=flags)\n",
      "/Users/leonilpark/opt/anaconda3/lib/python3.7/site-packages/matplotlib/backends/backend_agg.py:180: RuntimeWarning: Glyph 48660 missing from current font.\n",
      "  font.set_text(s, 0, flags=flags)\n",
      "/Users/leonilpark/opt/anaconda3/lib/python3.7/site-packages/matplotlib/backends/backend_agg.py:180: RuntimeWarning: Glyph 53420 missing from current font.\n",
      "  font.set_text(s, 0, flags=flags)\n",
      "/Users/leonilpark/opt/anaconda3/lib/python3.7/site-packages/matplotlib/backends/backend_agg.py:180: RuntimeWarning: Glyph 45936 missing from current font.\n",
      "  font.set_text(s, 0, flags=flags)\n",
      "/Users/leonilpark/opt/anaconda3/lib/python3.7/site-packages/matplotlib/backends/backend_agg.py:180: RuntimeWarning: Glyph 49828 missing from current font.\n",
      "  font.set_text(s, 0, flags=flags)\n",
      "/Users/leonilpark/opt/anaconda3/lib/python3.7/site-packages/matplotlib/backends/backend_agg.py:180: RuntimeWarning: Glyph 50612 missing from current font.\n",
      "  font.set_text(s, 0, flags=flags)\n",
      "/Users/leonilpark/opt/anaconda3/lib/python3.7/site-packages/matplotlib/backends/backend_agg.py:180: RuntimeWarning: Glyph 49884 missing from current font.\n",
      "  font.set_text(s, 0, flags=flags)\n",
      "/Users/leonilpark/opt/anaconda3/lib/python3.7/site-packages/matplotlib/backends/backend_agg.py:180: RuntimeWarning: Glyph 53944 missing from current font.\n",
      "  font.set_text(s, 0, flags=flags)\n",
      "/Users/leonilpark/opt/anaconda3/lib/python3.7/site-packages/matplotlib/backends/backend_agg.py:180: RuntimeWarning: Glyph 47000 missing from current font.\n",
      "  font.set_text(s, 0, flags=flags)\n",
      "/Users/leonilpark/opt/anaconda3/lib/python3.7/site-packages/matplotlib/backends/backend_agg.py:180: RuntimeWarning: Glyph 44260 missing from current font.\n",
      "  font.set_text(s, 0, flags=flags)\n",
      "/Users/leonilpark/opt/anaconda3/lib/python3.7/site-packages/matplotlib/backends/backend_agg.py:180: RuntimeWarning: Glyph 51204 missing from current font.\n",
      "  font.set_text(s, 0, flags=flags)\n",
      "/Users/leonilpark/opt/anaconda3/lib/python3.7/site-packages/matplotlib/backends/backend_agg.py:180: RuntimeWarning: Glyph 47161 missing from current font.\n",
      "  font.set_text(s, 0, flags=flags)\n",
      "/Users/leonilpark/opt/anaconda3/lib/python3.7/site-packages/matplotlib/backends/backend_agg.py:180: RuntimeWarning: Glyph 53440 missing from current font.\n",
      "  font.set_text(s, 0, flags=flags)\n",
      "/Users/leonilpark/opt/anaconda3/lib/python3.7/site-packages/matplotlib/backends/backend_agg.py:180: RuntimeWarning: Glyph 50892 missing from current font.\n",
      "  font.set_text(s, 0, flags=flags)\n",
      "/Users/leonilpark/opt/anaconda3/lib/python3.7/site-packages/matplotlib/backends/backend_agg.py:180: RuntimeWarning: Glyph 51221 missing from current font.\n",
      "  font.set_text(s, 0, flags=flags)\n",
      "/Users/leonilpark/opt/anaconda3/lib/python3.7/site-packages/matplotlib/backends/backend_agg.py:180: RuntimeWarning: Glyph 44544 missing from current font.\n",
      "  font.set_text(s, 0, flags=flags)\n",
      "/Users/leonilpark/opt/anaconda3/lib/python3.7/site-packages/matplotlib/backends/backend_agg.py:180: RuntimeWarning: Glyph 47788 missing from current font.\n",
      "  font.set_text(s, 0, flags=flags)\n",
      "/Users/leonilpark/opt/anaconda3/lib/python3.7/site-packages/matplotlib/backends/backend_agg.py:180: RuntimeWarning: Glyph 53552 missing from current font.\n",
      "  font.set_text(s, 0, flags=flags)\n",
      "/Users/leonilpark/opt/anaconda3/lib/python3.7/site-packages/matplotlib/backends/backend_agg.py:180: RuntimeWarning: Glyph 48516 missing from current font.\n",
      "  font.set_text(s, 0, flags=flags)\n",
      "/Users/leonilpark/opt/anaconda3/lib/python3.7/site-packages/matplotlib/backends/backend_agg.py:180: RuntimeWarning: Glyph 45817 missing from current font.\n",
      "  font.set_text(s, 0, flags=flags)\n",
      "/Users/leonilpark/opt/anaconda3/lib/python3.7/site-packages/matplotlib/backends/backend_agg.py:180: RuntimeWarning: Glyph 52264 missing from current font.\n",
      "  font.set_text(s, 0, flags=flags)\n",
      "/Users/leonilpark/opt/anaconda3/lib/python3.7/site-packages/matplotlib/backends/backend_agg.py:180: RuntimeWarning: Glyph 51060 missing from current font.\n",
      "  font.set_text(s, 0, flags=flags)\n",
      "/Users/leonilpark/opt/anaconda3/lib/python3.7/site-packages/matplotlib/backends/backend_agg.py:180: RuntimeWarning: Glyph 47112 missing from current font.\n",
      "  font.set_text(s, 0, flags=flags)\n",
      "/Users/leonilpark/opt/anaconda3/lib/python3.7/site-packages/matplotlib/backends/backend_agg.py:180: RuntimeWarning: Glyph 48296 missing from current font.\n",
      "  font.set_text(s, 0, flags=flags)\n"
     ]
    },
    {
     "data": {
      "image/png": "[encoded data removed]",
      "text/plain": [
       "<Figure size 1080x1080 with 2 Axes>"
      ]
     },
     "metadata": {
      "needs_background": "light"
     },
     "output_type": "display_data"
    }
   ],
   "source": [
    "plt.figure(figsize=(15,15))\n",
    "sns.heatmap(data=corr,annot=True,fmt='.2f')\n",
    "plt.show()"
   ]
  },
  {
   "cell_type": "code",
   "execution_count": 49,
   "metadata": {},
   "outputs": [
    {
     "data": {
      "image/png": "[encoded data removed]",
      "text/plain": [
       "<Figure size 432x288 with 1 Axes>"
      ]
     },
     "metadata": {
      "needs_background": "light"
     },
     "output_type": "display_data"
    }
   ],
   "source": [
    "import numpy as np\n",
    "import matplotlib.pyplot as plt\n",
    "\n",
    "\n",
    "\n",
    "from sklearn import svm, datasets\n",
    "from sklearn.metrics import auc\n",
    "from sklearn.metrics import plot_roc_curve\n",
    "from sklearn.model_selection import StratifiedKFold\n",
    "\n",
    "cv = StratifiedKFold(n_splits=10)\n",
    "classifier = LogisticRegression(penalty='elasticnet',solver='saga',n_jobs=-1,l1_ratio=0.4)\n",
    "\n",
    "tprs = []\n",
    "aucs = []\n",
    "mean_fpr = np.linspace(0, 1, 100)\n",
    "\n",
    "fig, ax = plt.subplots()\n",
    "for i, (train2, test2) in enumerate(cv.split(X_train, y_train)):\n",
    "    classifier.fit(X_test, y_test)\n",
    "    viz = plot_roc_curve(classifier, X_test, y_test,\n",
    "                         name='ROC fold {}'.format(i),\n",
    "                         alpha=0.3, lw=1, ax=ax)\n",
    "    interp_tpr = np.interp(mean_fpr, viz.fpr, viz.tpr)\n",
    "    interp_tpr[0] = 0.0\n",
    "    tprs.append(interp_tpr)\n",
    "    aucs.append(viz.roc_auc)\n",
    "\n",
    "ax.plot([0, 1], [0, 1], linestyle='--', lw=2, color='r',\n",
    "        label='Chance', alpha=.8)\n",
    "\n",
    "mean_tpr = np.mean(tprs, axis=0)\n",
    "mean_tpr[-1] = 1.0\n",
    "mean_auc = auc(mean_fpr, mean_tpr)\n",
    "std_auc = np.std(aucs)\n",
    "ax.plot(mean_fpr, mean_tpr, color='b',\n",
    "        label=r'Mean ROC (AUC = %0.2f $\\pm$ %0.2f)' % (mean_auc, std_auc),\n",
    "        lw=2, alpha=.8)\n",
    "\n",
    "std_tpr = np.std(tprs, axis=0)\n",
    "tprs_upper = np.minimum(mean_tpr + std_tpr, 1)\n",
    "tprs_lower = np.maximum(mean_tpr - std_tpr, 0)\n",
    "ax.fill_between(mean_fpr, tprs_lower, tprs_upper, color='grey', alpha=.2,\n",
    "                label=r'$\\pm$ 1 std. dev.')\n",
    "\n",
    "ax.set(xlim=[-0.05, 1.05], ylim=[-0.05, 1.05],\n",
    "       title=\"K_fold ROC\")\n",
    "ax.legend(loc=\"lower right\")\n",
    "plt.show()\n"
   ]
  },
  {
   "cell_type": "code",
   "execution_count": 50,
   "metadata": {},
   "outputs": [
    {
     "name": "stdout",
     "output_type": "stream",
     "text": [
      "         Predict[0]  predict[1]\n",
      "True[0]        1410         515\n",
      "True[1]         595        1432\n",
      "Classification Report\n",
      "              precision    recall  f1-score   support\n",
      "\n",
      "           0       0.70      0.73      0.72      1925\n",
      "           1       0.74      0.71      0.72      2027\n",
      "\n",
      "    accuracy                           0.72      3952\n",
      "   macro avg       0.72      0.72      0.72      3952\n",
      "weighted avg       0.72      0.72      0.72      3952\n",
      "\n"
     ]
    }
   ],
   "source": [
    "confmat1=pd.DataFrame(confusion_matrix(y_test,y_pred_gs),\n",
    "index=['True[0]','True[1]'],\n",
    "columns=['Predict[0]','predict[1]'])\n",
    "print(confmat1)\n",
    "print('Classification Report')\n",
    "print(classification_report(y_test,y_pred_gs))"
   ]
  },
  {
   "cell_type": "code",
   "execution_count": 51,
   "metadata": {},
   "outputs": [
    {
     "name": "stdout",
     "output_type": "stream",
     "text": [
      "Optimization terminated successfully.\n",
      "         Current function value: 0.536300\n",
      "         Iterations 6\n"
     ]
    }
   ],
   "source": [
    "import statsmodels.api as sm\n",
    "\n",
    "xts=StandardScaler()\n",
    "X=xts.fit_transform(X)\n",
    "logit_mod=sm.Logit(y,X)\n",
    "result=logit_mod.fit()"
   ]
  },
  {
   "cell_type": "code",
   "execution_count": 52,
   "metadata": {},
   "outputs": [
    {
     "name": "stdout",
     "output_type": "stream",
     "text": [
      "                           Logit Regression Results                           \n",
      "==============================================================================\n",
      "Dep. Variable:                     B승   No. Observations:                 9879\n",
      "Model:                          Logit   Df Residuals:                     9864\n",
      "Method:                           MLE   Df Model:                           14\n",
      "Date:                Thu, 30 Jul 2020   Pseudo R-squ.:                  0.2263\n",
      "Time:                        18:03:55   Log-Likelihood:                -5298.1\n",
      "converged:                       True   LL-Null:                       -6847.6\n",
      "Covariance Type:            nonrobust   LLR p-value:                     0.000\n",
      "==============================================================================\n",
      "                 coef    std err          z      P>|z|      [0.025      0.975]\n",
      "------------------------------------------------------------------------------\n",
      "x1            -0.0266      0.024     -1.125      0.261      -0.073       0.020\n",
      "x2             0.0048      0.024      0.199      0.842      -0.043       0.052\n",
      "x3             0.0625      0.025      2.500      0.012       0.014       0.112\n",
      "x4             0.5787      0.051     11.244      0.000       0.478       0.680\n",
      "x5            -0.5833      0.037    -15.956      0.000      -0.655      -0.512\n",
      "x6             0.0320      0.042      0.754      0.451      -0.051       0.115\n",
      "x7             0.1474      0.031      4.754      0.000       0.087       0.208\n",
      "x8             0.0920      0.030      3.083      0.002       0.033       0.150\n",
      "x9             0.1731      0.027      6.485      0.000       0.121       0.225\n",
      "x10           -0.1140      0.031     -3.659      0.000      -0.175      -0.053\n",
      "x11           -0.0472      0.028     -1.690      0.091      -0.102       0.008\n",
      "x12            0.0133      0.040      0.337      0.736      -0.064       0.091\n",
      "x13           -0.0950      0.027     -3.549      0.000      -0.147      -0.043\n",
      "x14            0.2529      0.041      6.132      0.000       0.172       0.334\n",
      "x15            0.3409      0.046      7.334      0.000       0.250       0.432\n",
      "==============================================================================\n"
     ]
    }
   ],
   "source": [
    "print(result.summary())"
   ]
  },
  {
   "cell_type": "code",
   "execution_count": 53,
   "metadata": {},
   "outputs": [
    {
     "name": "stdout",
     "output_type": "stream",
     "text": [
      "x1     0.973797\n",
      "x2     1.004822\n",
      "x3     1.064504\n",
      "x4     1.783728\n",
      "x5     0.558072\n",
      "x6     1.032507\n",
      "x7     1.158843\n",
      "x8     1.096316\n",
      "x9     1.188934\n",
      "x10    0.892214\n",
      "x11    0.953905\n",
      "x12    1.013409\n",
      "x13    0.909354\n",
      "x14    1.287761\n",
      "x15    1.406182\n",
      "dtype: float64\n"
     ]
    }
   ],
   "source": [
    "print(np.exp(result.params))"
   ]
  },
  {
   "cell_type": "code",
   "execution_count": null,
   "metadata": {},
   "outputs": [],
   "source": []
  }
 ],
 "metadata": {
  "kernelspec": {
   "display_name": "Python 3",
   "language": "python",
   "name": "python3"
  },
  "language_info": {
   "codemirror_mode": {
    "name": "ipython",
    "version": 3
   },
   "file_extension": ".py",
   "mimetype": "text/x-python",
   "name": "python",
   "nbconvert_exporter": "python",
   "pygments_lexer": "ipython3",
   "version": "3.7.6"
  },
  "toc": {
   "base_numbering": 1,
   "nav_menu": {},
   "number_sections": true,
   "sideBar": true,
   "skip_h1_title": false,
   "title_cell": "Table of Contents",
   "title_sidebar": "Contents",
   "toc_cell": false,
   "toc_position": {},
   "toc_section_display": true,
   "toc_window_display": false
  }
 },
 "nbformat": 4,
 "nbformat_minor": 4
}
