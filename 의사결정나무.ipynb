{
 "cells": [
  {
   "cell_type": "code",
   "execution_count": 13,
   "metadata": {},
   "outputs": [
    {
     "data": {
      "text/plain": [
       "3326    0\n",
       "5474    0\n",
       "3203    1\n",
       "4329    0\n",
       "7489    1\n",
       "       ..\n",
       "7729    1\n",
       "5333    1\n",
       "4731    1\n",
       "3370    0\n",
       "22      0\n",
       "Name: B승, Length: 5927, dtype: int64"
      ]
     },
     "execution_count": 13,
     "metadata": {},
     "output_type": "execute_result"
    }
   ],
   "source": [
    "import pandas as pd\n",
    "import numpy as np\n",
    "import matplotlib.pyplot as plt\n",
    "\n",
    "data=pd.read_csv(r'롤롤.csv',encoding='euc-kr')\n",
    "#print(data.info())\n",
    "data=data.drop('gameId',axis=1)\n",
    "\n",
    "data=data[data.columns[:20]]\n",
    "data=data.drop(['B토탈골드','B경험치','B엘리트몬스터','B전령','BCS','B분당골드'],axis=1)\n",
    "y=data['B승']\n",
    "X=data.drop('B승',axis=1)\n",
    "\n",
    "\n",
    "from sklearn.preprocessing import StandardScaler#수치형\n",
    "from sklearn.preprocessing import LabelEncoder#범주형\n",
    "\n",
    "\n",
    "\n",
    "from sklearn.tree import DecisionTreeClassifier\n",
    "from sklearn.ensemble import RandomForestClassifier\n",
    "\n",
    "\n",
    "\n",
    "from sklearn.metrics import confusion_matrix,classification_report\n",
    "from sklearn.metrics import accuracy_score,precision_score,recall_score,f1_score,make_scorer#정확도,민감도등\n",
    "from sklearn.metrics import roc_curve #roc곡선그리기\n",
    "\n",
    "\n",
    "\n",
    "#최적화\n",
    "from sklearn.model_selection import cross_validate #교차타당도\n",
    "from sklearn.pipeline import make_pipeline#파이프라인구축\n",
    "from sklearn.model_selection import learning_curve#학습곡선,검증곡선\n",
    "from sklearn.model_selection import GridSearchCV #하이퍼파라미티튜닝\n",
    "\n",
    "from sklearn.model_selection import train_test_split\n",
    "\n",
    "\n",
    "X_train,X_test,y_train,y_test=\\\n",
    "    train_test_split(X,y,\n",
    "    test_size=0.4,\n",
    "    train_size=0.6,\n",
    "    random_state=12354,\n",
    "    shuffle=True)\n",
    "y_train"
   ]
  },
  {
   "cell_type": "code",
   "execution_count": 2,
   "metadata": {},
   "outputs": [
    {
     "name": "stdout",
     "output_type": "stream",
     "text": [
      "         predict[0]  predict[1]\n",
      "true[0]        1217         708\n",
      "true[1]         723        1304\n",
      "              precision    recall  f1-score   support\n",
      "\n",
      "           0       0.63      0.63      0.63      1925\n",
      "           1       0.65      0.64      0.65      2027\n",
      "\n",
      "    accuracy                           0.64      3952\n",
      "   macro avg       0.64      0.64      0.64      3952\n",
      "weighted avg       0.64      0.64      0.64      3952\n",
      "\n"
     ]
    }
   ],
   "source": [
    "tree=DecisionTreeClassifier(criterion='gini',splitter='best')\n",
    "\n",
    "tree.fit(X_train,y_train)\n",
    "y_pred=tree.predict(X_test)\n",
    "\n",
    "confmat1=pd.DataFrame(confusion_matrix(y_test,y_pred),\n",
    "index=['true[0]','true[1]'],\n",
    "columns=['predict[0]','predict[1]'])\n",
    "#메트릭스 형태로 현재모델의 평가\n",
    "print(confmat1)\n",
    "print(classification_report(y_test,y_pred))"
   ]
  },
  {
   "cell_type": "code",
   "execution_count": 3,
   "metadata": {},
   "outputs": [
    {
     "data": {
      "image/png": "[encoded data removed]",
      "text/plain": [
       "<Figure size 432x288 with 1 Axes>"
      ]
     },
     "metadata": {
      "needs_background": "light"
     },
     "output_type": "display_data"
    }
   ],
   "source": [
    "fpr,tpr,thresholds=roc_curve(y_test,tree.predict_proba(X_test)[:,1])\n",
    "plt.plot(fpr,tpr,'--',label='Decision Tree')\n",
    "plt.plot([0,1],[0,1],'k--',label='random guess')\n",
    "plt.plot([fpr],[tpr],'r-',ms=10)\n",
    "plt.show()"
   ]
  },
  {
   "cell_type": "code",
   "execution_count": 4,
   "metadata": {},
   "outputs": [],
   "source": [
    "sourses=cross_validate(estimator=tree,\n",
    "X=X_train,\n",
    "y=y_train,\n",
    "scoring=['accuracy'],\n",
    "cv=10,\n",
    "n_jobs=-1,\n",
    "return_train_score=False)"
   ]
  },
  {
   "cell_type": "code",
   "execution_count": 5,
   "metadata": {},
   "outputs": [
    {
     "name": "stdout",
     "output_type": "stream",
     "text": [
      "[0.66273187 0.6222597  0.6762226  0.6222597  0.6762226  0.65598651\n",
      " 0.64249578 0.6402027  0.68074324 0.63344595]\n",
      "0.6512570643999818 0.021137452092489763\n"
     ]
    }
   ],
   "source": [
    "print(sourses['test_accuracy'])#cv정확도점수\n",
    "print(np.mean(sourses['test_accuracy']),np.std(sourses['test_accuracy'])) #cv정확도"
   ]
  },
  {
   "cell_type": "code",
   "execution_count": 6,
   "metadata": {},
   "outputs": [],
   "source": [
    "pipe_tree=make_pipeline(DecisionTreeClassifier())"
   ]
  },
  {
   "cell_type": "code",
   "execution_count": 7,
   "metadata": {},
   "outputs": [
    {
     "data": {
      "image/png": "[encoded data removed]",
      "text/plain": [
       "<Figure size 432x288 with 1 Axes>"
      ]
     },
     "metadata": {
      "needs_background": "light"
     },
     "output_type": "display_data"
    }
   ],
   "source": [
    "train_sizes,train_scores,test_scores=\\\n",
    "    learning_curve(estimator=pipe_tree,#수정\n",
    "    X=X_train,\n",
    "    y=y_train,\n",
    "    train_sizes=np.linspace(0.1,1.0,10),\n",
    "    n_jobs=1)\n",
    "\n",
    "train_mean=np.mean(train_scores,axis=1)\n",
    "train_std=np.std(train_scores,axis=1)\n",
    "test_mean=np.mean(test_scores,axis=1)\n",
    "test_std=np.std(test_scores,axis=1)\n",
    "\n",
    "plt.plot(train_sizes,train_mean,\n",
    "color='blue',marker='o',\n",
    "markersize=5,label='training accuracy')\n",
    "\n",
    "plt.fill_between(train_sizes,\n",
    "train_mean+train_std,\n",
    "train_mean-train_std,\n",
    "alpha=0.5,color='blue')\n",
    "\n",
    "plt.plot(train_sizes,test_mean,\n",
    "color='green',linestyle='--',\n",
    "marker='s',markersize=5,\n",
    "label='validation accuracy')\n",
    "\n",
    "plt.fill_between(train_sizes,\n",
    "test_mean+test_std,\n",
    "test_mean-test_std,\n",
    "alpha=0.15,color='green')\n",
    "\n",
    "plt.grid()\n",
    "plt.xlabel('number of trainning samples')\n",
    "plt.ylabel('accuracy')\n",
    "plt.legend(loc='lower right')\n",
    "plt.ylim([0.1,1.03])#수정  y값의 범위\n",
    "plt.tight_layout()\n",
    "#\n",
    "plt.show()\n",
    "#언더피팅 문제발견"
   ]
  },
  {
   "cell_type": "code",
   "execution_count": 8,
   "metadata": {},
   "outputs": [
    {
     "data": {
      "image/png": "[encoded data removed]",
      "text/plain": [
       "<Figure size 432x288 with 1 Axes>"
      ]
     },
     "metadata": {
      "needs_background": "light"
     },
     "output_type": "display_data"
    }
   ],
   "source": [
    "from sklearn.model_selection import validation_curve #교차타당도\n",
    "\n",
    "param_range=[1,2,3,4,5,6,7,8,9,10]#수정  가치지기 몇개 해줄거냐\n",
    "train_scores,test_scores=validation_curve(\n",
    "    estimator=pipe_tree,#수정\n",
    "    X=X_train,\n",
    "    y=y_train,\n",
    "    param_name='decisiontreeclassifier__max_depth',#수정 pipe_tree.get_params().keys()문장이용하여\n",
    "    #필요한걸 복사 삽입\n",
    "    param_range=param_range,\n",
    "    cv=10)\n",
    "\n",
    "train_mean=np.mean(train_scores,axis=1)\n",
    "train_std=np.std(train_scores,axis=1)\n",
    "test_mean=np.mean(test_scores,axis=1)\n",
    "test_std=np.std(test_scores,axis=1)\n",
    "\n",
    "plt.plot(train_sizes,train_mean,\n",
    "color='blue',marker='o',\n",
    "markersize=5,label='training accuracy')\n",
    "\n",
    "plt.fill_between(train_sizes,\n",
    "train_mean+train_std,\n",
    "train_mean-train_std,\n",
    "alpha=0.5,color='blue')\n",
    "\n",
    "plt.plot(train_sizes,test_mean,\n",
    "color='green',linestyle='--',\n",
    "marker='s',markersize=5,\n",
    "label='validation accuracy')\n",
    "\n",
    "plt.fill_between(train_sizes,\n",
    "test_mean+test_std,\n",
    "test_mean-test_std,\n",
    "alpha=0.15,color='green')\n",
    "\n",
    "plt.grid()\n",
    "plt.xlabel('number of max_depth')#수정\n",
    "plt.ylabel('accuracy')\n",
    "plt.legend(loc='lower right')\n",
    "plt.ylim([0.1,1.03])#수정  y값의 범위\n",
    "plt.tight_layout()\n",
    "plt.show()\n",
    "#"
   ]
  },
  {
   "cell_type": "code",
   "execution_count": 9,
   "metadata": {},
   "outputs": [
    {
     "name": "stdout",
     "output_type": "stream",
     "text": [
      "{'decisiontreeclassifier__max_depth': 5, 'decisiontreeclassifier__min_samples_leaf': 30}\n",
      "         Predict[0]  predict[1]\n",
      "True[0]        1345         580\n",
      "True[1]         554        1473\n"
     ]
    }
   ],
   "source": [
    "param_range1=[1,2,3,4,5,6,7,8,9,10]#수정\n",
    "param_range2=[10,20,30,40,50,60]#수정\n",
    "param_range3=[0.0,0.1,0.5,0.4,0.8]\n",
    "\n",
    "\n",
    "param_grid=[{'decisiontreeclassifier__max_depth':param_range1,#수정\n",
    "'decisiontreeclassifier__min_samples_leaf':param_range2}]#수정,\n",
    "#'decisiontreeclassifier__min_impurity_split':param_range3}]\n",
    "\n",
    "gs=GridSearchCV(estimator=pipe_tree,#수정\n",
    "param_grid=param_grid,\n",
    "scoring='accuracy',\n",
    "cv=10,n_jobs=-1)\n",
    "#하이퍼파라메터를 동시에 두고 최적화 패키지를 찾아줌\n",
    "gs=gs.fit(X_train,y_train)\n",
    "\n",
    "#print(gs.best_score_)#\n",
    "print(gs.best_params_)#가장 나은 가치지기수가장 적합한 최소 샘플 갯수\n",
    "\n",
    "#모델최적화검정\n",
    "\n",
    "best_tree=gs.best_estimator_\n",
    "clf=best_tree.fit(X_train,y_train)\n",
    "y_pred_tree=best_tree.predict(X_test)\n",
    "\n",
    "confmat2=pd.DataFrame(confusion_matrix(y_test,y_pred_tree),\n",
    "index=['True[0]','True[1]'],\n",
    "columns=['Predict[0]','predict[1]'])\n",
    "print(confmat2)"
   ]
  },
  {
   "cell_type": "code",
   "execution_count": 10,
   "metadata": {},
   "outputs": [
    {
     "name": "stdout",
     "output_type": "stream",
     "text": [
      "              precision    recall  f1-score   support\n",
      "\n",
      "           0       0.71      0.70      0.70      1925\n",
      "           1       0.72      0.73      0.72      2027\n",
      "\n",
      "    accuracy                           0.71      3952\n",
      "   macro avg       0.71      0.71      0.71      3952\n",
      "weighted avg       0.71      0.71      0.71      3952\n",
      "\n",
      "dict_keys(['memory', 'steps', 'verbose', 'decisiontreeclassifier', 'decisiontreeclassifier__ccp_alpha', 'decisiontreeclassifier__class_weight', 'decisiontreeclassifier__criterion', 'decisiontreeclassifier__max_depth', 'decisiontreeclassifier__max_features', 'decisiontreeclassifier__max_leaf_nodes', 'decisiontreeclassifier__min_impurity_decrease', 'decisiontreeclassifier__min_impurity_split', 'decisiontreeclassifier__min_samples_leaf', 'decisiontreeclassifier__min_samples_split', 'decisiontreeclassifier__min_weight_fraction_leaf', 'decisiontreeclassifier__presort', 'decisiontreeclassifier__random_state', 'decisiontreeclassifier__splitter'])\n"
     ]
    }
   ],
   "source": [
    "print(classification_report(y_test,y_pred_tree))\n",
    "print(pipe_tree.get_params().keys())"
   ]
  },
  {
   "cell_type": "code",
   "execution_count": 11,
   "metadata": {},
   "outputs": [
    {
     "data": {
      "image/png": "[encoded data removed]",
      "text/plain": [
       "<Figure size 432x288 with 1 Axes>"
      ]
     },
     "metadata": {
      "needs_background": "light"
     },
     "output_type": "display_data"
    }
   ],
   "source": [
    "train_sizes,train_scores,test_scores=\\\n",
    "    learning_curve(estimator=best_tree,#수정\n",
    "    X=X_train,\n",
    "    y=y_train,\n",
    "    train_sizes=np.linspace(0.1,1.0,10),\n",
    "    n_jobs=1)\n",
    "\n",
    "train_mean=np.mean(train_scores,axis=1)\n",
    "train_std=np.std(train_scores,axis=1)\n",
    "test_mean=np.mean(test_scores,axis=1)\n",
    "test_std=np.std(test_scores,axis=1)\n",
    "\n",
    "plt.plot(train_sizes,train_mean,\n",
    "color='blue',marker='o',\n",
    "markersize=5,label='training accuracy')\n",
    "\n",
    "plt.fill_between(train_sizes,\n",
    "train_mean+train_std,\n",
    "train_mean-train_std,\n",
    "alpha=0.5,color='blue')\n",
    "\n",
    "plt.plot(train_sizes,test_mean,\n",
    "color='green',linestyle='--',\n",
    "marker='s',markersize=5,\n",
    "label='validation accuracy')\n",
    "\n",
    "plt.fill_between(train_sizes,\n",
    "test_mean+test_std,\n",
    "test_mean-test_std,\n",
    "alpha=0.15,color='green')\n",
    "\n",
    "plt.grid()\n",
    "plt.xlabel('number of trainning samples')\n",
    "plt.ylabel('accuracy')\n",
    "plt.legend(loc='lower right')\n",
    "plt.ylim([0.1,1.03])#수정  y값의 범위\n",
    "plt.tight_layout()\n",
    "#\n",
    "plt.show()"
   ]
  },
  {
   "cell_type": "code",
   "execution_count": 12,
   "metadata": {},
   "outputs": [
    {
     "data": {
      "text/plain": [
       "True"
      ]
     },
     "execution_count": 12,
     "metadata": {},
     "output_type": "execute_result"
    }
   ],
   "source": [
    "from pydotplus import graph_from_dot_data\n",
    "from sklearn.tree import export_graphviz\n",
    "import pydotplus\n",
    "import graphviz\n",
    "import os\n",
    "from IPython.display import Image #cart tree그림\n",
    "clf=DecisionTreeClassifier(max_depth= 5,min_samples_leaf= 30,\n",
    "                          criterion='gini')\n",
    "clf=clf.fit(X_train,y_train)\n",
    "\n",
    "os.environ['PATH']+=os.pathsep+'C:/Program Files (x86)/Graphviz2.38/bin/'\n",
    "feature_names=X.columns.tolist()#x의컬럼을저장\n",
    "target_name=np.array(['no','yes'])\n",
    "\n",
    "dot_data=export_graphviz(clf,\n",
    "filled=True,\n",
    "rounded=True,\n",
    "class_names=target_name,\n",
    "feature_names=feature_names,\n",
    "                        out_file=None)\n",
    "\n",
    "graph=pydotplus.graph_from_dot_data(dot_data)#그래프로 나타냄\n",
    "graph.write_png('롤 디시션.png')"
   ]
  },
  {
   "cell_type": "code",
   "execution_count": null,
   "metadata": {},
   "outputs": [],
   "source": []
  },
  {
   "cell_type": "code",
   "execution_count": null,
   "metadata": {},
   "outputs": [],
   "source": []
  }
 ],
 "metadata": {
  "kernelspec": {
   "display_name": "Python 3",
   "language": "python",
   "name": "python3"
  },
  "language_info": {
   "codemirror_mode": {
    "name": "ipython",
    "version": 3
   },
   "file_extension": ".py",
   "mimetype": "text/x-python",
   "name": "python",
   "nbconvert_exporter": "python",
   "pygments_lexer": "ipython3",
   "version": "3.7.6"
  },
  "toc": {
   "base_numbering": 1,
   "nav_menu": {},
   "number_sections": true,
   "sideBar": true,
   "skip_h1_title": false,
   "title_cell": "Table of Contents",
   "title_sidebar": "Contents",
   "toc_cell": false,
   "toc_position": {},
   "toc_section_display": true,
   "toc_window_display": false
  }
 },
 "nbformat": 4,
 "nbformat_minor": 4
}
