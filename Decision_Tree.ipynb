{
 "cells": [
  {
   "cell_type": "code",
   "execution_count": 1,
   "metadata": {},
   "outputs": [],
   "source": [
    "import pandas as pd\n",
    "import numpy as np\n",
    "import matplotlib.pyplot as plt"
   ]
  },
  {
   "cell_type": "code",
   "execution_count": 2,
   "metadata": {},
   "outputs": [],
   "source": [
    "data=pd.read_csv(r'high_diamond_ranked_10min.csv')"
   ]
  },
  {
   "cell_type": "code",
   "execution_count": 3,
   "metadata": {},
   "outputs": [
    {
     "name": "stdout",
     "output_type": "stream",
     "text": [
      "          gameId  blueWins  blueWardsPlaced  blueWardsDestroyed  \\\n",
      "0     4519157822         0               28                   2   \n",
      "1     4523371949         0               12                   1   \n",
      "2     4521474530         0               15                   0   \n",
      "3     4524384067         0               43                   1   \n",
      "4     4436033771         0               75                   4   \n",
      "...          ...       ...              ...                 ...   \n",
      "9874  4527873286         1               17                   2   \n",
      "9875  4527797466         1               54                   0   \n",
      "9876  4527713716         0               23                   1   \n",
      "9877  4527628313         0               14                   4   \n",
      "9878  4523772935         1               18                   0   \n",
      "\n",
      "      blueFirstBlood  blueKills  blueDeaths  blueAssists  blueEliteMonsters  \\\n",
      "0                  1          9           6           11                  0   \n",
      "1                  0          5           5            5                  0   \n",
      "2                  0          7          11            4                  1   \n",
      "3                  0          4           5            5                  1   \n",
      "4                  0          6           6            6                  0   \n",
      "...              ...        ...         ...          ...                ...   \n",
      "9874               1          7           4            5                  1   \n",
      "9875               0          6           4            8                  1   \n",
      "9876               0          6           7            5                  0   \n",
      "9877               1          2           3            3                  1   \n",
      "9878               1          6           6            5                  0   \n",
      "\n",
      "      blueDragons  ...  redTowersDestroyed  redTotalGold  redAvgLevel  \\\n",
      "0               0  ...                   0         16567          6.8   \n",
      "1               0  ...                   1         17620          6.8   \n",
      "2               1  ...                   0         17285          6.8   \n",
      "3               0  ...                   0         16478          7.0   \n",
      "4               0  ...                   0         17404          7.0   \n",
      "...           ...  ...                 ...           ...          ...   \n",
      "9874            1  ...                   0         15246          6.8   \n",
      "9875            1  ...                   0         15456          7.0   \n",
      "9876            0  ...                   0         18319          7.4   \n",
      "9877            1  ...                   0         15298          7.2   \n",
      "9878            0  ...                   0         15339          6.8   \n",
      "\n",
      "      redTotalExperience  redTotalMinionsKilled  redTotalJungleMinionsKilled  \\\n",
      "0                  17047                    197                           55   \n",
      "1                  17438                    240                           52   \n",
      "2                  17254                    203                           28   \n",
      "3                  17961                    235                           47   \n",
      "4                  18313                    225                           67   \n",
      "...                  ...                    ...                          ...   \n",
      "9874               16498                    229                           34   \n",
      "9875               18367                    206                           56   \n",
      "9876               19909                    261                           60   \n",
      "9877               18314                    247                           40   \n",
      "9878               17379                    201                           46   \n",
      "\n",
      "      redGoldDiff  redExperienceDiff  redCSPerMin  redGoldPerMin  \n",
      "0            -643                  8         19.7         1656.7  \n",
      "1            2908               1173         24.0         1762.0  \n",
      "2            1172               1033         20.3         1728.5  \n",
      "3            1321                  7         23.5         1647.8  \n",
      "4            1004               -230         22.5         1740.4  \n",
      "...           ...                ...          ...            ...  \n",
      "9874        -2519              -2469         22.9         1524.6  \n",
      "9875         -782               -888         20.6         1545.6  \n",
      "9876         2416               1877         26.1         1831.9  \n",
      "9877          839               1085         24.7         1529.8  \n",
      "9878         -927                 58         20.1         1533.9  \n",
      "\n",
      "[9879 rows x 40 columns]\n"
     ]
    }
   ],
   "source": [
    "print(data)"
   ]
  },
  {
   "cell_type": "code",
   "execution_count": 4,
   "metadata": {},
   "outputs": [],
   "source": [
    "data=data.drop('gameId',axis=1)"
   ]
  },
  {
   "cell_type": "code",
   "execution_count": 5,
   "metadata": {},
   "outputs": [
    {
     "name": "stdout",
     "output_type": "stream",
     "text": [
      "Index(['blueWins', 'blueWardsPlaced', 'blueWardsDestroyed', 'blueFirstBlood',\n",
      "       'blueKills', 'blueDeaths', 'blueAssists', 'blueEliteMonsters',\n",
      "       'blueDragons', 'blueHeralds', 'blueTowersDestroyed', 'blueTotalGold',\n",
      "       'blueAvgLevel', 'blueTotalExperience', 'blueTotalMinionsKilled',\n",
      "       'blueTotalJungleMinionsKilled', 'blueGoldDiff', 'blueExperienceDiff',\n",
      "       'blueCSPerMin', 'blueGoldPerMin', 'redWardsPlaced', 'redWardsDestroyed',\n",
      "       'redFirstBlood', 'redKills', 'redDeaths', 'redAssists',\n",
      "       'redEliteMonsters', 'redDragons', 'redHeralds', 'redTowersDestroyed',\n",
      "       'redTotalGold', 'redAvgLevel', 'redTotalExperience',\n",
      "       'redTotalMinionsKilled', 'redTotalJungleMinionsKilled', 'redGoldDiff',\n",
      "       'redExperienceDiff', 'redCSPerMin', 'redGoldPerMin'],\n",
      "      dtype='object')\n"
     ]
    }
   ],
   "source": [
    "print(data.columns)"
   ]
  },
  {
   "cell_type": "code",
   "execution_count": 6,
   "metadata": {},
   "outputs": [],
   "source": [
    "y=data['blueWins']"
   ]
  },
  {
   "cell_type": "code",
   "execution_count": 7,
   "metadata": {},
   "outputs": [],
   "source": [
    "X=data.drop(['blueWins','blueEliteMonsters','blueHeralds','blueTotalGold','blueTotalExperience',\n",
    "         'blueTotalJungleMinionsKilled','blueGoldDiff','blueExperienceDiff','blueTotalMinionsKilled',\n",
    "         'blueGoldPerMin','redWardsPlaced', 'redWardsDestroyed','redFirstBlood',\n",
    "         'redKills', 'redDeaths', 'redAssists',\n",
    "       'redEliteMonsters','redHeralds','redTotalGold', 'redTotalExperience','redTotalJungleMinionsKilled', 'redGoldDiff',\n",
    "       'redExperienceDiff','redGoldPerMin'],axis=1)"
   ]
  },
  {
   "cell_type": "code",
   "execution_count": 8,
   "metadata": {},
   "outputs": [
    {
     "name": "stdout",
     "output_type": "stream",
     "text": [
      "      blueWardsPlaced  blueWardsDestroyed  blueFirstBlood  blueKills  \\\n",
      "0                  28                   2               1          9   \n",
      "1                  12                   1               0          5   \n",
      "2                  15                   0               0          7   \n",
      "3                  43                   1               0          4   \n",
      "4                  75                   4               0          6   \n",
      "...               ...                 ...             ...        ...   \n",
      "9874               17                   2               1          7   \n",
      "9875               54                   0               0          6   \n",
      "9876               23                   1               0          6   \n",
      "9877               14                   4               1          2   \n",
      "9878               18                   0               1          6   \n",
      "\n",
      "      blueDeaths  blueAssists  blueDragons  blueTowersDestroyed  blueAvgLevel  \\\n",
      "0              6           11            0                    0           6.6   \n",
      "1              5            5            0                    0           6.6   \n",
      "2             11            4            1                    0           6.4   \n",
      "3              5            5            0                    0           7.0   \n",
      "4              6            6            0                    0           7.0   \n",
      "...          ...          ...          ...                  ...           ...   \n",
      "9874           4            5            1                    0           7.2   \n",
      "9875           4            8            1                    0           7.2   \n",
      "9876           7            5            0                    0           7.0   \n",
      "9877           3            3            1                    0           6.6   \n",
      "9878           6            5            0                    0           7.0   \n",
      "\n",
      "      blueCSPerMin  redDragons  redTowersDestroyed  redAvgLevel  \\\n",
      "0             19.5           0                   0          6.8   \n",
      "1             17.4           1                   1          6.8   \n",
      "2             18.6           0                   0          6.8   \n",
      "3             20.1           0                   0          7.0   \n",
      "4             21.0           1                   0          7.0   \n",
      "...            ...         ...                 ...          ...   \n",
      "9874          21.1           0                   0          6.8   \n",
      "9875          23.3           0                   0          7.0   \n",
      "9876          21.0           1                   0          7.4   \n",
      "9877          22.4           0                   0          7.2   \n",
      "9878          20.7           1                   0          6.8   \n",
      "\n",
      "      redTotalMinionsKilled  redCSPerMin  \n",
      "0                       197         19.7  \n",
      "1                       240         24.0  \n",
      "2                       203         20.3  \n",
      "3                       235         23.5  \n",
      "4                       225         22.5  \n",
      "...                     ...          ...  \n",
      "9874                    229         22.9  \n",
      "9875                    206         20.6  \n",
      "9876                    261         26.1  \n",
      "9877                    247         24.7  \n",
      "9878                    201         20.1  \n",
      "\n",
      "[9879 rows x 15 columns]\n"
     ]
    }
   ],
   "source": [
    "print(X)"
   ]
  },
  {
   "cell_type": "code",
   "execution_count": 9,
   "metadata": {},
   "outputs": [],
   "source": [
    "X['CSPerdiff']=X['blueCSPerMin']-X['redCSPerMin']\n",
    "X['avgleveldiff']=X['blueAvgLevel']-X['redAvgLevel']"
   ]
  },
  {
   "cell_type": "code",
   "execution_count": 10,
   "metadata": {},
   "outputs": [],
   "source": [
    "X=X.drop(['blueCSPerMin','redCSPerMin','blueAvgLevel','redAvgLevel'],axis=1)"
   ]
  },
  {
   "cell_type": "code",
   "execution_count": 11,
   "metadata": {},
   "outputs": [],
   "source": [
    "from sklearn.preprocessing import StandardScaler#수치형\n",
    "from sklearn.preprocessing import LabelEncoder#범주형\n",
    "from sklearn.metrics import confusion_matrix,classification_report\n",
    "from sklearn.metrics import accuracy_score,precision_score,recall_score,f1_score,make_scorer#정확도,민감도등\n",
    "from sklearn.metrics import roc_curve #roc곡선그리기#최적화\n",
    "from sklearn.model_selection import cross_validate #교차타당도\n",
    "from sklearn.pipeline import make_pipeline#파이프라인구축\n",
    "from sklearn.model_selection import learning_curve#학습곡선,검증곡선\n",
    "from sklearn.model_selection import GridSearchCV #하이퍼파라미티튜닝\n",
    "\n",
    "from sklearn.model_selection import train_test_split\n",
    "from sklearn.tree import DecisionTreeClassifier"
   ]
  },
  {
   "cell_type": "code",
   "execution_count": 12,
   "metadata": {},
   "outputs": [],
   "source": [
    "X_train,X_test,y_train,y_test=\\\n",
    "    train_test_split(X,y,\n",
    "    test_size=0.4,\n",
    "    train_size=0.6,\n",
    "    random_state=12354,\n",
    "    shuffle=True)\n",
    "\n",
    "\n",
    "\n",
    "#x 데이터들을 표준화실시"
   ]
  },
  {
   "cell_type": "code",
   "execution_count": 13,
   "metadata": {},
   "outputs": [
    {
     "name": "stdout",
     "output_type": "stream",
     "text": [
      "         predict[0]  predict[1]\n",
      "true[0]        1230         695\n",
      "true[1]         811        1216\n",
      "              precision    recall  f1-score   support\n",
      "\n",
      "           0       0.60      0.64      0.62      1925\n",
      "           1       0.64      0.60      0.62      2027\n",
      "\n",
      "    accuracy                           0.62      3952\n",
      "   macro avg       0.62      0.62      0.62      3952\n",
      "weighted avg       0.62      0.62      0.62      3952\n",
      "\n"
     ]
    }
   ],
   "source": [
    "tree=DecisionTreeClassifier(criterion='gini',splitter='best')\n",
    "tree.fit(X_train,y_train)\n",
    "y_pred=tree.predict(X_test)\n",
    "confmat1=pd.DataFrame(confusion_matrix(y_test,y_pred),\n",
    "index=['true[0]','true[1]'],\n",
    "columns=['predict[0]','predict[1]'])\n",
    "#메트릭스 형태로 현재모델의 평가\n",
    "print(confmat1)\n",
    "print(classification_report(y_test,y_pred))"
   ]
  },
  {
   "cell_type": "code",
   "execution_count": 14,
   "metadata": {},
   "outputs": [
    {
     "name": "stdout",
     "output_type": "stream",
     "text": [
      "{'decisiontreeclassifier__max_depth': 7, 'decisiontreeclassifier__min_impurity_decrease': 0.001011090909090909, 'decisiontreeclassifier__min_samples_leaf': 60}\n",
      "         Predict[0]  predict[1]\n",
      "True[0]        1334         591\n",
      "True[1]         581        1446\n"
     ]
    }
   ],
   "source": [
    "from sklearn.model_selection import StratifiedKFold\n",
    "from sklearn.model_selection import RepeatedStratifiedKFold\n",
    "\n",
    "kfold=StratifiedKFold(n_splits=10)\n",
    "repeart=RepeatedStratifiedKFold(n_splits=10,n_repeats=5)\n",
    "\n",
    "\n",
    "pipe_tree=make_pipeline(DecisionTreeClassifier())\n",
    "\n",
    "\n",
    "\n",
    "\n",
    "\n",
    "\n",
    "\n",
    "param_range1=[1,2,3,4,5,6,7,8,9,10]#수정\n",
    "param_range2=[10,20,30,40,50,60]#수정\n",
    "param_range3=np.linspace(0.1e-5,0.1,100)\n",
    "\n",
    "\n",
    "param_grid=[{'decisiontreeclassifier__max_depth':param_range1,#수정\n",
    "'decisiontreeclassifier__min_samples_leaf':param_range2,#수정,\n",
    "'decisiontreeclassifier__min_impurity_decrease':param_range3}]\n",
    "\n",
    "gs=GridSearchCV(estimator=pipe_tree,#수정\n",
    "param_grid=param_grid,\n",
    "scoring='accuracy',\n",
    "cv=kfold,n_jobs=-1)\n",
    "#하이퍼파라메터를 동시에 두고 최적화 패키지를 찾아줌\n",
    "gs=gs.fit(X_train,y_train)\n",
    "\n",
    "#print(gs.best_score_)#\n",
    "print(gs.best_params_)#가장 나은 가치지기수가장 적합한 최소 샘플 갯수\n",
    "\n",
    "#모델최적화검정\n",
    "\n",
    "best_tree=gs.best_estimator_\n",
    "clf=best_tree.fit(X_train,y_train)\n",
    "y_pred_tree=best_tree.predict(X_test)\n",
    "\n",
    "confmat2=pd.DataFrame(confusion_matrix(y_test,y_pred_tree),\n",
    "index=['True[0]','True[1]'],\n",
    "columns=['Predict[0]','predict[1]'])\n",
    "print(confmat2)"
   ]
  },
  {
   "cell_type": "code",
   "execution_count": 15,
   "metadata": {},
   "outputs": [
    {
     "name": "stdout",
     "output_type": "stream",
     "text": [
      "              precision    recall  f1-score   support\n",
      "\n",
      "           0       0.70      0.69      0.69      1925\n",
      "           1       0.71      0.71      0.71      2027\n",
      "\n",
      "    accuracy                           0.70      3952\n",
      "   macro avg       0.70      0.70      0.70      3952\n",
      "weighted avg       0.70      0.70      0.70      3952\n",
      "\n",
      "dict_keys(['memory', 'steps', 'verbose', 'decisiontreeclassifier', 'decisiontreeclassifier__ccp_alpha', 'decisiontreeclassifier__class_weight', 'decisiontreeclassifier__criterion', 'decisiontreeclassifier__max_depth', 'decisiontreeclassifier__max_features', 'decisiontreeclassifier__max_leaf_nodes', 'decisiontreeclassifier__min_impurity_decrease', 'decisiontreeclassifier__min_impurity_split', 'decisiontreeclassifier__min_samples_leaf', 'decisiontreeclassifier__min_samples_split', 'decisiontreeclassifier__min_weight_fraction_leaf', 'decisiontreeclassifier__presort', 'decisiontreeclassifier__random_state', 'decisiontreeclassifier__splitter'])\n"
     ]
    }
   ],
   "source": [
    "print(classification_report(y_test,y_pred_tree))\n",
    "print(pipe_tree.get_params().keys())"
   ]
  },
  {
   "cell_type": "code",
   "execution_count": 17,
   "metadata": {},
   "outputs": [
    {
     "data": {
      "text/plain": [
       "True"
      ]
     },
     "execution_count": 17,
     "metadata": {},
     "output_type": "execute_result"
    }
   ],
   "source": [
    "from pydotplus import graph_from_dot_data\n",
    "from sklearn.tree import export_graphviz\n",
    "import pydotplus\n",
    "import os\n",
    "from IPython.display import Image #cart tree그림\n",
    "clf=DecisionTreeClassifier(max_depth= 5,min_samples_leaf= 30,\n",
    "                          criterion='gini')\n",
    "clf=clf.fit(X_train,y_train)\n",
    "\n",
    "os.environ['PATH']+=os.pathsep+'C:/Program Files (x86)/Graphviz2.38/bin/'\n",
    "feature_names=X.columns.tolist()#x의컬럼을저장\n",
    "target_name=np.array(['no','yes'])\n",
    "\n",
    "dot_data=export_graphviz(clf,\n",
    "filled=True,\n",
    "rounded=True,\n",
    "class_names=target_name,\n",
    "feature_names=feature_names,\n",
    "                        out_file=None)\n",
    "\n",
    "graph=pydotplus.graph_from_dot_data(dot_data)#그래프로 나타냄\n",
    "graph.write_png('롤 영어버전.png')"
   ]
  },
  {
   "cell_type": "code",
   "execution_count": 20,
   "metadata": {},
   "outputs": [
    {
     "name": "stdout",
     "output_type": "stream",
     "text": [
      "      blueWins  blueWardsPlaced  blueWardsDestroyed  blueFirstBlood  \\\n",
      "0            0               28                   2               1   \n",
      "1            0               12                   1               0   \n",
      "2            0               15                   0               0   \n",
      "3            0               43                   1               0   \n",
      "4            0               75                   4               0   \n",
      "...        ...              ...                 ...             ...   \n",
      "9874         1               17                   2               1   \n",
      "9875         1               54                   0               0   \n",
      "9876         0               23                   1               0   \n",
      "9877         0               14                   4               1   \n",
      "9878         1               18                   0               1   \n",
      "\n",
      "      blueKills  blueDeaths  blueAssists  blueEliteMonsters  blueDragons  \\\n",
      "0             9           6           11                  0            0   \n",
      "1             5           5            5                  0            0   \n",
      "2             7          11            4                  1            1   \n",
      "3             4           5            5                  1            0   \n",
      "4             6           6            6                  0            0   \n",
      "...         ...         ...          ...                ...          ...   \n",
      "9874          7           4            5                  1            1   \n",
      "9875          6           4            8                  1            1   \n",
      "9876          6           7            5                  0            0   \n",
      "9877          2           3            3                  1            1   \n",
      "9878          6           6            5                  0            0   \n",
      "\n",
      "      blueHeralds  ...  redTowersDestroyed  redTotalGold  redAvgLevel  \\\n",
      "0               0  ...                   0         16567          6.8   \n",
      "1               0  ...                   1         17620          6.8   \n",
      "2               0  ...                   0         17285          6.8   \n",
      "3               1  ...                   0         16478          7.0   \n",
      "4               0  ...                   0         17404          7.0   \n",
      "...           ...  ...                 ...           ...          ...   \n",
      "9874            0  ...                   0         15246          6.8   \n",
      "9875            0  ...                   0         15456          7.0   \n",
      "9876            0  ...                   0         18319          7.4   \n",
      "9877            0  ...                   0         15298          7.2   \n",
      "9878            0  ...                   0         15339          6.8   \n",
      "\n",
      "      redTotalExperience  redTotalMinionsKilled  redTotalJungleMinionsKilled  \\\n",
      "0                  17047                    197                           55   \n",
      "1                  17438                    240                           52   \n",
      "2                  17254                    203                           28   \n",
      "3                  17961                    235                           47   \n",
      "4                  18313                    225                           67   \n",
      "...                  ...                    ...                          ...   \n",
      "9874               16498                    229                           34   \n",
      "9875               18367                    206                           56   \n",
      "9876               19909                    261                           60   \n",
      "9877               18314                    247                           40   \n",
      "9878               17379                    201                           46   \n",
      "\n",
      "      redGoldDiff  redExperienceDiff  redCSPerMin  redGoldPerMin  \n",
      "0            -643                  8         19.7         1656.7  \n",
      "1            2908               1173         24.0         1762.0  \n",
      "2            1172               1033         20.3         1728.5  \n",
      "3            1321                  7         23.5         1647.8  \n",
      "4            1004               -230         22.5         1740.4  \n",
      "...           ...                ...          ...            ...  \n",
      "9874        -2519              -2469         22.9         1524.6  \n",
      "9875         -782               -888         20.6         1545.6  \n",
      "9876         2416               1877         26.1         1831.9  \n",
      "9877          839               1085         24.7         1529.8  \n",
      "9878         -927                 58         20.1         1533.9  \n",
      "\n",
      "[9879 rows x 39 columns]\n"
     ]
    }
   ],
   "source": [
    "print(data)"
   ]
  },
  {
   "cell_type": "code",
   "execution_count": 21,
   "metadata": {},
   "outputs": [],
   "source": [
    "train_sizes,train_scores,test_scores=\\\n",
    "    learning_curve(estimator=best_tree,#수정\n",
    "    X=X_train,\n",
    "    y=y_train,\n",
    "    train_sizes=np.linspace(0.1,1.0,10),\n",
    "    n_jobs=-1,\n",
    "    cv=kfold)"
   ]
  },
  {
   "cell_type": "code",
   "execution_count": 22,
   "metadata": {},
   "outputs": [
    {
     "data": {
      "image/png": "[encoded data removed]",
      "text/plain": [
       "<Figure size 432x288 with 1 Axes>"
      ]
     },
     "metadata": {
      "needs_background": "light"
     },
     "output_type": "display_data"
    }
   ],
   "source": [
    "train_mean=np.mean(train_scores,axis=1)\n",
    "train_std=np.std(train_scores,axis=1)\n",
    "test_mean=np.mean(test_scores,axis=1)\n",
    "\n",
    "test_std=np.std(test_scores,axis=1)\n",
    "\n",
    "plt.plot(train_sizes,train_mean,\n",
    "color='blue',marker='o',\n",
    "markersize=5,label='training accuracy')\n",
    "\n",
    "plt.fill_between(train_sizes,\n",
    "train_mean+train_std,\n",
    "train_mean-train_std,\n",
    "alpha=0.5,color='blue')\n",
    "\n",
    "plt.plot(train_sizes,test_mean,\n",
    "color='green',linestyle='--',\n",
    "marker='s',markersize=5,\n",
    "label='validation accuracy')\n",
    "plt.fill_between(train_sizes,\n",
    "test_mean+test_std,\n",
    "test_mean-test_std,\n",
    "alpha=0.15,color='green')\n",
    "\n",
    "plt.grid()\n",
    "plt.xlabel('number of trainning samples')\n",
    "plt.ylabel('accuracy')\n",
    "plt.legend(loc='lower right')\n",
    "plt.ylim([0,1.03])#수정  y값의 범위\n",
    "plt.tight_layout()\n",
    "plt.show()"
   ]
  },
  {
   "cell_type": "code",
   "execution_count": 23,
   "metadata": {},
   "outputs": [
    {
     "name": "stdout",
     "output_type": "stream",
     "text": [
      "3326    0\n",
      "5474    0\n",
      "3203    1\n",
      "4329    0\n",
      "7489    1\n",
      "       ..\n",
      "7729    1\n",
      "5333    1\n",
      "4731    1\n",
      "3370    0\n",
      "22      0\n",
      "Name: blueWins, Length: 5927, dtype: int64\n"
     ]
    }
   ],
   "source": []
  },
  {
   "cell_type": "raw",
   "metadata": {},
   "source": []
  }
 ],
 "metadata": {
  "kernelspec": {
   "display_name": "Python 3",
   "language": "python",
   "name": "python3"
  },
  "language_info": {
   "codemirror_mode": {
    "name": "ipython",
    "version": 3
   },
   "file_extension": ".py",
   "mimetype": "text/x-python",
   "name": "python",
   "nbconvert_exporter": "python",
   "pygments_lexer": "ipython3",
   "version": "3.7.6"
  },
  "toc": {
   "base_numbering": 1,
   "nav_menu": {},
   "number_sections": true,
   "sideBar": true,
   "skip_h1_title": false,
   "title_cell": "Table of Contents",
   "title_sidebar": "Contents",
   "toc_cell": false,
   "toc_position": {},
   "toc_section_display": true,
   "toc_window_display": false
  }
 },
 "nbformat": 4,
 "nbformat_minor": 4
}
